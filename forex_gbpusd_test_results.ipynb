{
 "cells": [
  {
   "cell_type": "markdown",
   "metadata": {},
   "source": [
    "# Forex Currencies Rates: GBP/USD – Test Results"
   ]
  },
  {
   "cell_type": "markdown",
   "metadata": {
    "toc": true
   },
   "source": [
    "<h1>Table of Contents<span class=\"tocSkip\"></span></h1>\n",
    "<div class=\"toc\"><ul class=\"toc-item\"><li><span><a href=\"#Initialization\" data-toc-modified-id=\"Initialization-1\"><span class=\"toc-item-num\">1&nbsp;&nbsp;</span>Initialization</a></span></li><li><span><a href=\"#Loading-Predictions-and-Scores\" data-toc-modified-id=\"Loading-Predictions-and-Scores-2\"><span class=\"toc-item-num\">2&nbsp;&nbsp;</span>Loading Predictions and Scores</a></span></li><li><span><a href=\"#Comparison-of-Test-Results\" data-toc-modified-id=\"Comparison-of-Test-Results-3\"><span class=\"toc-item-num\">3&nbsp;&nbsp;</span>Comparison of Test Results</a></span><ul class=\"toc-item\"><li><span><a href=\"#Table-of-Models-Scores\" data-toc-modified-id=\"Table-of-Models-Scores-3.1\"><span class=\"toc-item-num\">3.1&nbsp;&nbsp;</span>Table of Models Scores</a></span></li><li><span><a href=\"#Distributions-of-Models-Errors\" data-toc-modified-id=\"Distributions-of-Models-Errors-3.2\"><span class=\"toc-item-num\">3.2&nbsp;&nbsp;</span>Distributions of Models Errors</a></span></li><li><span><a href=\"#Models-Predictions-Visualization\" data-toc-modified-id=\"Models-Predictions-Visualization-3.3\"><span class=\"toc-item-num\">3.3&nbsp;&nbsp;</span>Models Predictions Visualization</a></span></li></ul></li></ul></div>"
   ]
  },
  {
   "cell_type": "markdown",
   "metadata": {},
   "source": [
    "## Initialization"
   ]
  },
  {
   "cell_type": "code",
   "execution_count": 1,
   "metadata": {
    "scrolled": true
   },
   "outputs": [],
   "source": [
    "# !pip install --use-feature=in-tree-build psutil requests pmdarima nb_black"
   ]
  },
  {
   "cell_type": "code",
   "execution_count": 2,
   "metadata": {
    "scrolled": false
   },
   "outputs": [],
   "source": [
    "# !pip install --use-feature=in-tree-build ../pytorch-fit/\n",
    "# !pip install --use-feature=in-tree-build git+https://github.com/krzpiesiewicz/pytorch-fit"
   ]
  },
  {
   "cell_type": "code",
   "execution_count": 3,
   "metadata": {
    "scrolled": true
   },
   "outputs": [],
   "source": [
    "# !pip install --use-feature=in-tree-build ../timeseries/\n",
    "# !pip install --use-feature=in-tree-build git+https://github.com/krzpiesiewicz/timeseries"
   ]
  },
  {
   "cell_type": "code",
   "execution_count": 4,
   "metadata": {},
   "outputs": [],
   "source": [
    "import nb_black\n",
    "\n",
    "from utils.notebook_init import notebook_init\n",
    "\n",
    "notebook_init()"
   ]
  },
  {
   "cell_type": "code",
   "execution_count": 5,
   "metadata": {},
   "outputs": [
    {
     "data": {
      "application/javascript": [
       "\n",
       "            setTimeout(function() {\n",
       "                var nbb_cell_id = 5;\n",
       "                var nbb_unformatted_code = \"%load_ext nb_black\\n%load_ext autoreload\\n%autoreload 2\\n%aimport timeseries\";\n",
       "                var nbb_formatted_code = \"%load_ext nb_black\\n%load_ext autoreload\\n%autoreload 2\\n%aimport timeseries\";\n",
       "                var nbb_cells = Jupyter.notebook.get_cells();\n",
       "                for (var i = 0; i < nbb_cells.length; ++i) {\n",
       "                    if (nbb_cells[i].input_prompt_number == nbb_cell_id) {\n",
       "                        if (nbb_cells[i].get_text() == nbb_unformatted_code) {\n",
       "                             nbb_cells[i].set_text(nbb_formatted_code);\n",
       "                        }\n",
       "                        break;\n",
       "                    }\n",
       "                }\n",
       "            }, 500);\n",
       "            "
      ],
      "text/plain": [
       "<IPython.core.display.Javascript object>"
      ]
     },
     "metadata": {},
     "output_type": "display_data"
    }
   ],
   "source": [
    "%load_ext nb_black\n",
    "%load_ext autoreload\n",
    "%autoreload 2\n",
    "%aimport timeseries"
   ]
  },
  {
   "cell_type": "code",
   "execution_count": 6,
   "metadata": {},
   "outputs": [
    {
     "data": {
      "application/javascript": [
       "\n",
       "            setTimeout(function() {\n",
       "                var nbb_cell_id = 6;\n",
       "                var nbb_unformatted_code = \"import os\\nimport IPython.display\\nfrom pprint import pprint\\nimport matplotlib.colors as mcolors\\nfrom datetime import datetime, timedelta\\nimport numpy as np\\nimport pandas as pd\\n\\nimport timeseries as tss\\nfrom timeseries.plotting import plot_ts, plot_hist\\n\\nfrom utils.timeseries_data import ForexGBPUSDData\\nfrom utils.results import Results\\nfrom utils.plotting import (\\n    plot_model_test_prediction,\\n    plot_ground_truth,\\n    plot_hist_model_scores,\\n)\\nfrom scorings import get_comparison_scorings\";\n",
       "                var nbb_formatted_code = \"import os\\nimport IPython.display\\nfrom pprint import pprint\\nimport matplotlib.colors as mcolors\\nfrom datetime import datetime, timedelta\\nimport numpy as np\\nimport pandas as pd\\n\\nimport timeseries as tss\\nfrom timeseries.plotting import plot_ts, plot_hist\\n\\nfrom utils.timeseries_data import ForexGBPUSDData\\nfrom utils.results import Results\\nfrom utils.plotting import (\\n    plot_model_test_prediction,\\n    plot_ground_truth,\\n    plot_hist_model_scores,\\n)\\nfrom scorings import get_comparison_scorings\";\n",
       "                var nbb_cells = Jupyter.notebook.get_cells();\n",
       "                for (var i = 0; i < nbb_cells.length; ++i) {\n",
       "                    if (nbb_cells[i].input_prompt_number == nbb_cell_id) {\n",
       "                        if (nbb_cells[i].get_text() == nbb_unformatted_code) {\n",
       "                             nbb_cells[i].set_text(nbb_formatted_code);\n",
       "                        }\n",
       "                        break;\n",
       "                    }\n",
       "                }\n",
       "            }, 500);\n",
       "            "
      ],
      "text/plain": [
       "<IPython.core.display.Javascript object>"
      ]
     },
     "metadata": {},
     "output_type": "display_data"
    }
   ],
   "source": [
    "import os\n",
    "import IPython.display\n",
    "from pprint import pprint\n",
    "import matplotlib.colors as mcolors\n",
    "from datetime import datetime, timedelta\n",
    "import numpy as np\n",
    "import pandas as pd\n",
    "\n",
    "import timeseries as tss\n",
    "from timeseries.plotting import plot_ts, plot_hist\n",
    "\n",
    "from utils.timeseries_data import ForexGBPUSDData\n",
    "from utils.results import Results\n",
    "from utils.plotting import (\n",
    "    plot_model_test_prediction,\n",
    "    plot_ground_truth,\n",
    "    plot_hist_model_scores,\n",
    ")\n",
    "from scorings import get_comparison_scorings"
   ]
  },
  {
   "cell_type": "markdown",
   "metadata": {},
   "source": [
    "## Loading Predictions and Scores"
   ]
  },
  {
   "cell_type": "code",
   "execution_count": 7,
   "metadata": {},
   "outputs": [
    {
     "data": {
      "application/javascript": [
       "\n",
       "            setTimeout(function() {\n",
       "                var nbb_cell_id = 7;\n",
       "                var nbb_unformatted_code = \"scorings = get_comparison_scorings()\\n\\ngbpusd_data = ForexGBPUSDData()\\ndata_type = gbpusd_data.data_type\\ndata_name = gbpusd_data.data_name\\n\\ntest_results = Results(data_type, data_name, \\\"test\\\")\\n\\nts = gbpusd_data.ts\\ntest_intv = gbpusd_data.test_interval\\npred_steps = gbpusd_data.pred_steps\\npred_jump = gbpusd_data.pred_jump\";\n",
       "                var nbb_formatted_code = \"scorings = get_comparison_scorings()\\n\\ngbpusd_data = ForexGBPUSDData()\\ndata_type = gbpusd_data.data_type\\ndata_name = gbpusd_data.data_name\\n\\ntest_results = Results(data_type, data_name, \\\"test\\\")\\n\\nts = gbpusd_data.ts\\ntest_intv = gbpusd_data.test_interval\\npred_steps = gbpusd_data.pred_steps\\npred_jump = gbpusd_data.pred_jump\";\n",
       "                var nbb_cells = Jupyter.notebook.get_cells();\n",
       "                for (var i = 0; i < nbb_cells.length; ++i) {\n",
       "                    if (nbb_cells[i].input_prompt_number == nbb_cell_id) {\n",
       "                        if (nbb_cells[i].get_text() == nbb_unformatted_code) {\n",
       "                             nbb_cells[i].set_text(nbb_formatted_code);\n",
       "                        }\n",
       "                        break;\n",
       "                    }\n",
       "                }\n",
       "            }, 500);\n",
       "            "
      ],
      "text/plain": [
       "<IPython.core.display.Javascript object>"
      ]
     },
     "metadata": {},
     "output_type": "display_data"
    }
   ],
   "source": [
    "scorings = get_comparison_scorings()\n",
    "\n",
    "gbpusd_data = ForexGBPUSDData()\n",
    "data_type = gbpusd_data.data_type\n",
    "data_name = gbpusd_data.data_name\n",
    "\n",
    "test_results = Results(data_type, data_name, \"test\")\n",
    "\n",
    "ts = gbpusd_data.ts\n",
    "test_intv = gbpusd_data.test_interval\n",
    "pred_steps = gbpusd_data.pred_steps\n",
    "pred_jump = gbpusd_data.pred_jump"
   ]
  },
  {
   "cell_type": "code",
   "execution_count": 12,
   "metadata": {},
   "outputs": [
    {
     "data": {
      "application/javascript": [
       "\n",
       "            setTimeout(function() {\n",
       "                var nbb_cell_id = 12;\n",
       "                var nbb_unformatted_code = \"models = [(\\\"Median of Medians\\\", \\\"(1,7)\\\"), (\\\"ARIMA\\\", \\\"(3,0,4)\\\")]\\ntest_preds = {}\\ntest_scores = {}\\nfor model, version in models:\\n    test_results.set_model(model, version)\\n    test_results.load_model_preds()\\n    test_results.load_model_scores()\\n    test_preds[(model, version)] = test_results.get_model_preds()\\n    test_scores[(model, version)] = test_results.get_model_scores()\";\n",
       "                var nbb_formatted_code = \"models = [(\\\"Median of Medians\\\", \\\"(1,7)\\\"), (\\\"ARIMA\\\", \\\"(3,0,4)\\\")]\\ntest_preds = {}\\ntest_scores = {}\\nfor model, version in models:\\n    test_results.set_model(model, version)\\n    test_results.load_model_preds()\\n    test_results.load_model_scores()\\n    test_preds[(model, version)] = test_results.get_model_preds()\\n    test_scores[(model, version)] = test_results.get_model_scores()\";\n",
       "                var nbb_cells = Jupyter.notebook.get_cells();\n",
       "                for (var i = 0; i < nbb_cells.length; ++i) {\n",
       "                    if (nbb_cells[i].input_prompt_number == nbb_cell_id) {\n",
       "                        if (nbb_cells[i].get_text() == nbb_unformatted_code) {\n",
       "                             nbb_cells[i].set_text(nbb_formatted_code);\n",
       "                        }\n",
       "                        break;\n",
       "                    }\n",
       "                }\n",
       "            }, 500);\n",
       "            "
      ],
      "text/plain": [
       "<IPython.core.display.Javascript object>"
      ]
     },
     "metadata": {},
     "output_type": "display_data"
    }
   ],
   "source": [
    "models = [(\"Median of Medians\", \"(1,7)\"), (\"ARIMA\", \"(3,0,4)\")]\n",
    "test_preds = {}\n",
    "test_scores = {}\n",
    "for model, version in models:\n",
    "    test_results.set_model(model, version)\n",
    "    test_results.load_model_preds()\n",
    "    test_results.load_model_scores()\n",
    "    test_preds[(model, version)] = test_results.get_model_preds()\n",
    "    test_scores[(model, version)] = test_results.get_model_scores()"
   ]
  },
  {
   "cell_type": "markdown",
   "metadata": {},
   "source": [
    "## Comparison of Test Results"
   ]
  },
  {
   "cell_type": "markdown",
   "metadata": {},
   "source": [
    "### Table of Models Scores"
   ]
  },
  {
   "cell_type": "code",
   "execution_count": 18,
   "metadata": {},
   "outputs": [
    {
     "data": {
      "text/html": [
       "<div>\n",
       "<style scoped>\n",
       "    .dataframe tbody tr th:only-of-type {\n",
       "        vertical-align: middle;\n",
       "    }\n",
       "\n",
       "    .dataframe tbody tr th {\n",
       "        vertical-align: top;\n",
       "    }\n",
       "\n",
       "    .dataframe thead th {\n",
       "        text-align: right;\n",
       "    }\n",
       "</style>\n",
       "<table border=\"1\" class=\"dataframe\">\n",
       "  <thead>\n",
       "    <tr style=\"text-align: right;\">\n",
       "      <th></th>\n",
       "      <th>Scoring</th>\n",
       "      <th>RMSE</th>\n",
       "      <th>MAE</th>\n",
       "      <th>MASE</th>\n",
       "      <th>sMAPE</th>\n",
       "    </tr>\n",
       "    <tr>\n",
       "      <th>Model</th>\n",
       "      <th>Version</th>\n",
       "      <th></th>\n",
       "      <th></th>\n",
       "      <th></th>\n",
       "      <th></th>\n",
       "    </tr>\n",
       "  </thead>\n",
       "  <tbody>\n",
       "    <tr>\n",
       "      <th>Median of Medians</th>\n",
       "      <th>(1,7)</th>\n",
       "      <td>0.000502</td>\n",
       "      <td>0.000435</td>\n",
       "      <td>6.817965</td>\n",
       "      <td>0.031368</td>\n",
       "    </tr>\n",
       "    <tr>\n",
       "      <th>ARIMA</th>\n",
       "      <th>(3,0,4)</th>\n",
       "      <td>0.000497</td>\n",
       "      <td>0.000427</td>\n",
       "      <td>6.581271</td>\n",
       "      <td>0.030852</td>\n",
       "    </tr>\n",
       "  </tbody>\n",
       "</table>\n",
       "</div>"
      ],
      "text/plain": [
       "Scoring                        RMSE       MAE      MASE     sMAPE\n",
       "Model             Version                                        \n",
       "Median of Medians (1,7)    0.000502  0.000435  6.817965  0.031368\n",
       "ARIMA             (3,0,4)  0.000497  0.000427  6.581271  0.030852"
      ]
     },
     "metadata": {},
     "output_type": "display_data"
    },
    {
     "data": {
      "application/javascript": [
       "\n",
       "            setTimeout(function() {\n",
       "                var nbb_cell_id = 18;\n",
       "                var nbb_unformatted_code = \"display(test_results.scores_table())\";\n",
       "                var nbb_formatted_code = \"display(test_results.scores_table())\";\n",
       "                var nbb_cells = Jupyter.notebook.get_cells();\n",
       "                for (var i = 0; i < nbb_cells.length; ++i) {\n",
       "                    if (nbb_cells[i].input_prompt_number == nbb_cell_id) {\n",
       "                        if (nbb_cells[i].get_text() == nbb_unformatted_code) {\n",
       "                             nbb_cells[i].set_text(nbb_formatted_code);\n",
       "                        }\n",
       "                        break;\n",
       "                    }\n",
       "                }\n",
       "            }, 500);\n",
       "            "
      ],
      "text/plain": [
       "<IPython.core.display.Javascript object>"
      ]
     },
     "metadata": {},
     "output_type": "display_data"
    }
   ],
   "source": [
    "display(test_results.scores_table())"
   ]
  },
  {
   "cell_type": "markdown",
   "metadata": {},
   "source": [
    "### Distributions of Models Errors"
   ]
  },
  {
   "cell_type": "code",
   "execution_count": 13,
   "metadata": {},
   "outputs": [
    {
     "data": {
      "application/vnd.plotly.v1+json": {
       "config": {
        "plotlyServerURL": "https://plot.ly"
       },
       "data": [
        {
         "name": "Median of Medians (1,7)",
         "type": "histogram",
         "x": [
          0.0006833333333333321,
          0.00042333333333346805,
          0.0004133333333333137,
          0.000623333333333483,
          0.00040833333333329205,
          0.0004466666666666212,
          0.0005733333333332701,
          0.00025166666666663894,
          0.0003666666666666263,
          0.0003383333333332961,
          9.999999999998899e-05,
          0.0001399999999999846,
          0.0001983333333333152,
          0.0002516666666666575,
          0.00027333333333335875,
          0.00027500000000006225,
          0.000398333333333419,
          0.00039333333333345654,
          0.0004100000000001547,
          0.00026333333333330435,
          0.00010666666666665492,
          0.00014000000000001048,
          0.00027166666666669965,
          0.0002166666666667427,
          0.0004466666666667544,
          0.0003283333333334674,
          0.0003916666666668308,
          0.00011000000000001379,
          0.00013166666666668546,
          0.00012666666666668602,
          0.00012166666666669027,
          0.00020000000000004828,
          0.0003283333333334045,
          0.00042166666666672016,
          0.0006333333333334153,
          0.0009033333333334226,
          0.0010100000000001109,
          0.00027166666666663677,
          9.333333333332306e-05,
          9.666666666665601e-05,
          0.00012999999999998568,
          0.00021333333333330983,
          0.00035999999999996034,
          8.999999999999009e-05,
          0.00016999999999998128,
          0.000293333333333301,
          0.00043166666666661914,
          0.0005133333333332768,
          0.0008233333333332426,
          0.000396666666666623,
          0.00022999999999997466,
          0.00016333333333331534,
          0.00020666666666664392,
          0.0003249999999999642,
          0.0003133333333333062,
          0.0003033333333333147,
          0.00036833333333330756,
          0.0005433333333332883,
          0.0006083333333332812,
          0.0007933333333332607,
          0.0011199999999998841,
          0.0011549999999998764,
          0.00046166666666663434,
          0.0003200000000000129,
          0.00035166666666669824,
          0.000588333333333361,
          0.0008600000000000164,
          0.0003983333333333968,
          0.00023666666666673312,
          0.0004333333333334447,
          0.0004400000000001329,
          0.0007766666666667847,
          0.000586666666666602,
          0.00045999999999994933,
          0.000344999999999962,
          0.0003066666666666329,
          0.00022499999999997893,
          0.0005983333333332896,
          0.00037000000000000737,
          0.0004449999999999991,
          0.0006449999999999771,
          0.00065833333333332,
          0.0004283333333333787,
          0.0005166666666667208,
          0.0005600000000000382,
          0.0007116666666667474,
          0.0008383333333334372,
          0.000696666666666812,
          0.0004033333333332963,
          0.00018166666666665407,
          0.00018333333333332054,
          0.00016166666666665627,
          0.00019333333333331943,
          0.00032333333333332365,
          0.00044000000000000706,
          0.0007450000000000105,
          0.0012166666666666918,
          0.001683333333333381,
          0.0024550000000000257,
          0.002008333333333242,
          0.0013966666666666645,
          0.0006250000000000828,
          0.0013499999999999513,
          0.0009183333333333692,
          0.0008066666666667406,
          0.0012616666666667275,
          0.0008799999999999031,
          0.0002949999999999675,
          0.0008216666666665762,
          0.0002083333333333104,
          0.0002166666666666428,
          0.00026333333333330435,
          0.00016333333333331534,
          0.00036999999999995923,
          0.0001766666666666472,
          0.00025499999999997194,
          0.0002866666666666573,
          0.00041000000000001403,
          0.0005133333333333508,
          0.000790000000000024,
          0.00035166666666674263,
          8.666666666677925e-05,
          0.00014666666666674304,
          7.500000000008796e-05,
          0.00012833333333346723,
          0.00012666666666672673,
          0.00021000000000015822,
          0.00027000000000018123,
          0.00022499999999997893,
          0.0001783333333333137,
          0.00011999999999998679,
          0.0001383333333333181,
          9.333333333332306e-05,
          0.00011666666666665382,
          0.00013166666666665218,
          0.00012499999999998623,
          0.00013499999999998512,
          0.00032333333333329773,
          0.00015999999999998977,
          0.0002649999999999782,
          0.00022499999999998262,
          0.00026999999999997767,
          0.00018333333333332054,
          9.333333333333046e-05
         ],
         "xaxis": "x",
         "yaxis": "y"
        },
        {
         "name": "ARIMA (3,0,4)",
         "type": "histogram",
         "x": [
          0.0007028897392596305,
          0.00028721206153633496,
          0.0005558044412924846,
          0.0003776383280395275,
          0.0003208604740854974,
          0.00025944199459858964,
          0.000550754596216226,
          0.00026436523062554803,
          0.0004612635386806119,
          9.80215214933929e-05,
          0.00011076406676353567,
          0.00011017128393790617,
          0.00014788526066115507,
          0.0003532696841973289,
          0.00029073284045071,
          0.0002909701928234587,
          0.0003415819817673841,
          0.0003493988782282316,
          0.0004987203654537346,
          0.00018876248519637725,
          0.0001654122317485518,
          0.00014000095931843888,
          0.00020260392197516409,
          0.00020929188613560967,
          0.00043214586404239177,
          0.00031373174165807055,
          0.0002825826126270877,
          0.00010072250789462389,
          0.00012998797665982517,
          0.0002901044181941222,
          0.00015246639596686964,
          0.0002017418241692918,
          0.0003191508542601381,
          0.0004298015003874093,
          0.0007116570251088953,
          0.0010134973746322514,
          0.0007440277608758501,
          0.0001914997393016408,
          0.0001062928810188731,
          0.0001904956071271502,
          0.0001190338989040122,
          0.0002694978611328724,
          0.0001555133827656078,
          8.884258060804691e-05,
          0.0001734354501807663,
          0.0003058197121506752,
          0.00044431839147148394,
          0.0005883235128040269,
          0.0007407147836563488,
          0.0004065524392947458,
          0.00016887033911989018,
          0.0001618101145158146,
          0.00022623421829650974,
          0.0003140071536797147,
          0.0003124817589146474,
          0.0003253696656014678,
          0.0004135903667487025,
          0.0006937122876662741,
          0.0005936127657682255,
          0.0007837777940774115,
          0.0011039208559500543,
          0.0010467876130977585,
          0.0002947978758269687,
          0.00033846434444107697,
          0.0004260760216815318,
          0.0007034876727773291,
          0.0008380376122684867,
          0.00017817995238349852,
          0.0002619993136506663,
          0.000525893427662442,
          0.0003940884704872157,
          0.0010668234169039466,
          0.0005937597172582872,
          0.00024795313121381095,
          0.00029619570023530585,
          0.00032203916064771354,
          0.00022432260734002544,
          0.0004914997715396015,
          0.0003641635935815716,
          0.0004723569342959403,
          0.0006251324682377213,
          0.0006536772756313258,
          0.0004446233335511492,
          0.0005469067133426615,
          0.0005857843405490264,
          0.0006979150891348189,
          0.0012048642510720834,
          0.0006754198103967083,
          0.0005890522973749738,
          0.00019055596191475493,
          0.0001528669689621546,
          0.00019236708480047104,
          0.00022310254786479523,
          0.00031192384153634346,
          0.0004263406969688151,
          0.0007545312544930701,
          0.0012235552761832005,
          0.0017365852616463803,
          0.0024695834589296473,
          0.00136134548376049,
          0.0014370640287796035,
          0.0005645280560177952,
          0.0015200383037409523,
          0.000975039505856723,
          0.000957902512659962,
          0.0011613300426690657,
          0.0007703289677356931,
          0.0002943003756536074,
          0.0008320090876708523,
          0.00021065281160121964,
          0.00022394682281453953,
          0.000250467044906999,
          0.00017183675210289407,
          0.0002823250672326731,
          0.00014611628226359383,
          0.000210545682712715,
          0.0003028684210716337,
          0.0004195973427153166,
          0.0005261038613955068,
          0.000903078639160515,
          0.00017812488511708134,
          9.215733777335015e-05,
          0.00012877034699486644,
          7.783332737157181e-05,
          0.00010186007472513525,
          0.00013530613869072356,
          0.0002989568563054249,
          0.00019548763692259403,
          0.0003310192053200082,
          0.00011537910426137424,
          0.0001298992880468123,
          0.00014803735230379072,
          0.00012827497714342403,
          0.00011902821194269553,
          0.000136563205828318,
          0.00013050524667069057,
          0.00014027198856173909,
          0.000238081773407528,
          0.00013721062250821037,
          0.0002575870204091668,
          0.00021464926120640844,
          0.0002611291734406366,
          8.821800225546535e-05,
          0.00016893448841420004
         ],
         "xaxis": "x",
         "yaxis": "y"
        }
       ],
       "layout": {
        "font": {
         "size": 14
        },
        "height": 630,
        "template": {
         "data": {
          "bar": [
           {
            "error_x": {
             "color": "rgb(36,36,36)"
            },
            "error_y": {
             "color": "rgb(36,36,36)"
            },
            "marker": {
             "line": {
              "color": "white",
              "width": 0.5
             },
             "pattern": {
              "fillmode": "overlay",
              "size": 10,
              "solidity": 0.2
             }
            },
            "type": "bar"
           }
          ],
          "barpolar": [
           {
            "marker": {
             "line": {
              "color": "white",
              "width": 0.5
             },
             "pattern": {
              "fillmode": "overlay",
              "size": 10,
              "solidity": 0.2
             }
            },
            "type": "barpolar"
           }
          ],
          "carpet": [
           {
            "aaxis": {
             "endlinecolor": "rgb(36,36,36)",
             "gridcolor": "white",
             "linecolor": "white",
             "minorgridcolor": "white",
             "startlinecolor": "rgb(36,36,36)"
            },
            "baxis": {
             "endlinecolor": "rgb(36,36,36)",
             "gridcolor": "white",
             "linecolor": "white",
             "minorgridcolor": "white",
             "startlinecolor": "rgb(36,36,36)"
            },
            "type": "carpet"
           }
          ],
          "choropleth": [
           {
            "colorbar": {
             "outlinewidth": 1,
             "tickcolor": "rgb(36,36,36)",
             "ticks": "outside"
            },
            "type": "choropleth"
           }
          ],
          "contour": [
           {
            "colorbar": {
             "outlinewidth": 1,
             "tickcolor": "rgb(36,36,36)",
             "ticks": "outside"
            },
            "colorscale": [
             [
              0,
              "#440154"
             ],
             [
              0.1111111111111111,
              "#482878"
             ],
             [
              0.2222222222222222,
              "#3e4989"
             ],
             [
              0.3333333333333333,
              "#31688e"
             ],
             [
              0.4444444444444444,
              "#26828e"
             ],
             [
              0.5555555555555556,
              "#1f9e89"
             ],
             [
              0.6666666666666666,
              "#35b779"
             ],
             [
              0.7777777777777778,
              "#6ece58"
             ],
             [
              0.8888888888888888,
              "#b5de2b"
             ],
             [
              1,
              "#fde725"
             ]
            ],
            "type": "contour"
           }
          ],
          "contourcarpet": [
           {
            "colorbar": {
             "outlinewidth": 1,
             "tickcolor": "rgb(36,36,36)",
             "ticks": "outside"
            },
            "type": "contourcarpet"
           }
          ],
          "heatmap": [
           {
            "colorbar": {
             "outlinewidth": 1,
             "tickcolor": "rgb(36,36,36)",
             "ticks": "outside"
            },
            "colorscale": [
             [
              0,
              "#440154"
             ],
             [
              0.1111111111111111,
              "#482878"
             ],
             [
              0.2222222222222222,
              "#3e4989"
             ],
             [
              0.3333333333333333,
              "#31688e"
             ],
             [
              0.4444444444444444,
              "#26828e"
             ],
             [
              0.5555555555555556,
              "#1f9e89"
             ],
             [
              0.6666666666666666,
              "#35b779"
             ],
             [
              0.7777777777777778,
              "#6ece58"
             ],
             [
              0.8888888888888888,
              "#b5de2b"
             ],
             [
              1,
              "#fde725"
             ]
            ],
            "type": "heatmap"
           }
          ],
          "heatmapgl": [
           {
            "colorbar": {
             "outlinewidth": 1,
             "tickcolor": "rgb(36,36,36)",
             "ticks": "outside"
            },
            "colorscale": [
             [
              0,
              "#440154"
             ],
             [
              0.1111111111111111,
              "#482878"
             ],
             [
              0.2222222222222222,
              "#3e4989"
             ],
             [
              0.3333333333333333,
              "#31688e"
             ],
             [
              0.4444444444444444,
              "#26828e"
             ],
             [
              0.5555555555555556,
              "#1f9e89"
             ],
             [
              0.6666666666666666,
              "#35b779"
             ],
             [
              0.7777777777777778,
              "#6ece58"
             ],
             [
              0.8888888888888888,
              "#b5de2b"
             ],
             [
              1,
              "#fde725"
             ]
            ],
            "type": "heatmapgl"
           }
          ],
          "histogram": [
           {
            "marker": {
             "line": {
              "color": "white",
              "width": 0.6
             }
            },
            "type": "histogram"
           }
          ],
          "histogram2d": [
           {
            "colorbar": {
             "outlinewidth": 1,
             "tickcolor": "rgb(36,36,36)",
             "ticks": "outside"
            },
            "colorscale": [
             [
              0,
              "#440154"
             ],
             [
              0.1111111111111111,
              "#482878"
             ],
             [
              0.2222222222222222,
              "#3e4989"
             ],
             [
              0.3333333333333333,
              "#31688e"
             ],
             [
              0.4444444444444444,
              "#26828e"
             ],
             [
              0.5555555555555556,
              "#1f9e89"
             ],
             [
              0.6666666666666666,
              "#35b779"
             ],
             [
              0.7777777777777778,
              "#6ece58"
             ],
             [
              0.8888888888888888,
              "#b5de2b"
             ],
             [
              1,
              "#fde725"
             ]
            ],
            "type": "histogram2d"
           }
          ],
          "histogram2dcontour": [
           {
            "colorbar": {
             "outlinewidth": 1,
             "tickcolor": "rgb(36,36,36)",
             "ticks": "outside"
            },
            "colorscale": [
             [
              0,
              "#440154"
             ],
             [
              0.1111111111111111,
              "#482878"
             ],
             [
              0.2222222222222222,
              "#3e4989"
             ],
             [
              0.3333333333333333,
              "#31688e"
             ],
             [
              0.4444444444444444,
              "#26828e"
             ],
             [
              0.5555555555555556,
              "#1f9e89"
             ],
             [
              0.6666666666666666,
              "#35b779"
             ],
             [
              0.7777777777777778,
              "#6ece58"
             ],
             [
              0.8888888888888888,
              "#b5de2b"
             ],
             [
              1,
              "#fde725"
             ]
            ],
            "type": "histogram2dcontour"
           }
          ],
          "mesh3d": [
           {
            "colorbar": {
             "outlinewidth": 1,
             "tickcolor": "rgb(36,36,36)",
             "ticks": "outside"
            },
            "type": "mesh3d"
           }
          ],
          "parcoords": [
           {
            "line": {
             "colorbar": {
              "outlinewidth": 1,
              "tickcolor": "rgb(36,36,36)",
              "ticks": "outside"
             }
            },
            "type": "parcoords"
           }
          ],
          "pie": [
           {
            "automargin": true,
            "type": "pie"
           }
          ],
          "scatter": [
           {
            "marker": {
             "colorbar": {
              "outlinewidth": 1,
              "tickcolor": "rgb(36,36,36)",
              "ticks": "outside"
             }
            },
            "type": "scatter"
           }
          ],
          "scatter3d": [
           {
            "line": {
             "colorbar": {
              "outlinewidth": 1,
              "tickcolor": "rgb(36,36,36)",
              "ticks": "outside"
             }
            },
            "marker": {
             "colorbar": {
              "outlinewidth": 1,
              "tickcolor": "rgb(36,36,36)",
              "ticks": "outside"
             }
            },
            "type": "scatter3d"
           }
          ],
          "scattercarpet": [
           {
            "marker": {
             "colorbar": {
              "outlinewidth": 1,
              "tickcolor": "rgb(36,36,36)",
              "ticks": "outside"
             }
            },
            "type": "scattercarpet"
           }
          ],
          "scattergeo": [
           {
            "marker": {
             "colorbar": {
              "outlinewidth": 1,
              "tickcolor": "rgb(36,36,36)",
              "ticks": "outside"
             }
            },
            "type": "scattergeo"
           }
          ],
          "scattergl": [
           {
            "marker": {
             "colorbar": {
              "outlinewidth": 1,
              "tickcolor": "rgb(36,36,36)",
              "ticks": "outside"
             }
            },
            "type": "scattergl"
           }
          ],
          "scattermapbox": [
           {
            "marker": {
             "colorbar": {
              "outlinewidth": 1,
              "tickcolor": "rgb(36,36,36)",
              "ticks": "outside"
             }
            },
            "type": "scattermapbox"
           }
          ],
          "scatterpolar": [
           {
            "marker": {
             "colorbar": {
              "outlinewidth": 1,
              "tickcolor": "rgb(36,36,36)",
              "ticks": "outside"
             }
            },
            "type": "scatterpolar"
           }
          ],
          "scatterpolargl": [
           {
            "marker": {
             "colorbar": {
              "outlinewidth": 1,
              "tickcolor": "rgb(36,36,36)",
              "ticks": "outside"
             }
            },
            "type": "scatterpolargl"
           }
          ],
          "scatterternary": [
           {
            "marker": {
             "colorbar": {
              "outlinewidth": 1,
              "tickcolor": "rgb(36,36,36)",
              "ticks": "outside"
             }
            },
            "type": "scatterternary"
           }
          ],
          "surface": [
           {
            "colorbar": {
             "outlinewidth": 1,
             "tickcolor": "rgb(36,36,36)",
             "ticks": "outside"
            },
            "colorscale": [
             [
              0,
              "#440154"
             ],
             [
              0.1111111111111111,
              "#482878"
             ],
             [
              0.2222222222222222,
              "#3e4989"
             ],
             [
              0.3333333333333333,
              "#31688e"
             ],
             [
              0.4444444444444444,
              "#26828e"
             ],
             [
              0.5555555555555556,
              "#1f9e89"
             ],
             [
              0.6666666666666666,
              "#35b779"
             ],
             [
              0.7777777777777778,
              "#6ece58"
             ],
             [
              0.8888888888888888,
              "#b5de2b"
             ],
             [
              1,
              "#fde725"
             ]
            ],
            "type": "surface"
           }
          ],
          "table": [
           {
            "cells": {
             "fill": {
              "color": "rgb(237,237,237)"
             },
             "line": {
              "color": "white"
             }
            },
            "header": {
             "fill": {
              "color": "rgb(217,217,217)"
             },
             "line": {
              "color": "white"
             }
            },
            "type": "table"
           }
          ]
         },
         "layout": {
          "annotationdefaults": {
           "arrowhead": 0,
           "arrowwidth": 1
          },
          "autotypenumbers": "strict",
          "coloraxis": {
           "colorbar": {
            "outlinewidth": 1,
            "tickcolor": "rgb(36,36,36)",
            "ticks": "outside"
           }
          },
          "colorscale": {
           "diverging": [
            [
             0,
             "rgb(103,0,31)"
            ],
            [
             0.1,
             "rgb(178,24,43)"
            ],
            [
             0.2,
             "rgb(214,96,77)"
            ],
            [
             0.3,
             "rgb(244,165,130)"
            ],
            [
             0.4,
             "rgb(253,219,199)"
            ],
            [
             0.5,
             "rgb(247,247,247)"
            ],
            [
             0.6,
             "rgb(209,229,240)"
            ],
            [
             0.7,
             "rgb(146,197,222)"
            ],
            [
             0.8,
             "rgb(67,147,195)"
            ],
            [
             0.9,
             "rgb(33,102,172)"
            ],
            [
             1,
             "rgb(5,48,97)"
            ]
           ],
           "sequential": [
            [
             0,
             "#440154"
            ],
            [
             0.1111111111111111,
             "#482878"
            ],
            [
             0.2222222222222222,
             "#3e4989"
            ],
            [
             0.3333333333333333,
             "#31688e"
            ],
            [
             0.4444444444444444,
             "#26828e"
            ],
            [
             0.5555555555555556,
             "#1f9e89"
            ],
            [
             0.6666666666666666,
             "#35b779"
            ],
            [
             0.7777777777777778,
             "#6ece58"
            ],
            [
             0.8888888888888888,
             "#b5de2b"
            ],
            [
             1,
             "#fde725"
            ]
           ],
           "sequentialminus": [
            [
             0,
             "#440154"
            ],
            [
             0.1111111111111111,
             "#482878"
            ],
            [
             0.2222222222222222,
             "#3e4989"
            ],
            [
             0.3333333333333333,
             "#31688e"
            ],
            [
             0.4444444444444444,
             "#26828e"
            ],
            [
             0.5555555555555556,
             "#1f9e89"
            ],
            [
             0.6666666666666666,
             "#35b779"
            ],
            [
             0.7777777777777778,
             "#6ece58"
            ],
            [
             0.8888888888888888,
             "#b5de2b"
            ],
            [
             1,
             "#fde725"
            ]
           ]
          },
          "colorway": [
           "#1F77B4",
           "#FF7F0E",
           "#2CA02C",
           "#D62728",
           "#9467BD",
           "#8C564B",
           "#E377C2",
           "#7F7F7F",
           "#BCBD22",
           "#17BECF"
          ],
          "font": {
           "color": "rgb(36,36,36)"
          },
          "geo": {
           "bgcolor": "white",
           "lakecolor": "white",
           "landcolor": "white",
           "showlakes": true,
           "showland": true,
           "subunitcolor": "white"
          },
          "hoverlabel": {
           "align": "left"
          },
          "hovermode": "closest",
          "mapbox": {
           "style": "light"
          },
          "paper_bgcolor": "white",
          "plot_bgcolor": "white",
          "polar": {
           "angularaxis": {
            "gridcolor": "rgb(232,232,232)",
            "linecolor": "rgb(36,36,36)",
            "showgrid": false,
            "showline": true,
            "ticks": "outside"
           },
           "bgcolor": "white",
           "radialaxis": {
            "gridcolor": "rgb(232,232,232)",
            "linecolor": "rgb(36,36,36)",
            "showgrid": false,
            "showline": true,
            "ticks": "outside"
           }
          },
          "scene": {
           "xaxis": {
            "backgroundcolor": "white",
            "gridcolor": "rgb(232,232,232)",
            "gridwidth": 2,
            "linecolor": "rgb(36,36,36)",
            "showbackground": true,
            "showgrid": false,
            "showline": true,
            "ticks": "outside",
            "zeroline": false,
            "zerolinecolor": "rgb(36,36,36)"
           },
           "yaxis": {
            "backgroundcolor": "white",
            "gridcolor": "rgb(232,232,232)",
            "gridwidth": 2,
            "linecolor": "rgb(36,36,36)",
            "showbackground": true,
            "showgrid": false,
            "showline": true,
            "ticks": "outside",
            "zeroline": false,
            "zerolinecolor": "rgb(36,36,36)"
           },
           "zaxis": {
            "backgroundcolor": "white",
            "gridcolor": "rgb(232,232,232)",
            "gridwidth": 2,
            "linecolor": "rgb(36,36,36)",
            "showbackground": true,
            "showgrid": false,
            "showline": true,
            "ticks": "outside",
            "zeroline": false,
            "zerolinecolor": "rgb(36,36,36)"
           }
          },
          "shapedefaults": {
           "fillcolor": "black",
           "line": {
            "width": 0
           },
           "opacity": 0.3
          },
          "ternary": {
           "aaxis": {
            "gridcolor": "rgb(232,232,232)",
            "linecolor": "rgb(36,36,36)",
            "showgrid": false,
            "showline": true,
            "ticks": "outside"
           },
           "baxis": {
            "gridcolor": "rgb(232,232,232)",
            "linecolor": "rgb(36,36,36)",
            "showgrid": false,
            "showline": true,
            "ticks": "outside"
           },
           "bgcolor": "white",
           "caxis": {
            "gridcolor": "rgb(232,232,232)",
            "linecolor": "rgb(36,36,36)",
            "showgrid": false,
            "showline": true,
            "ticks": "outside"
           }
          },
          "title": {
           "x": 0.05
          },
          "xaxis": {
           "automargin": true,
           "gridcolor": "rgb(232,232,232)",
           "linecolor": "rgb(36,36,36)",
           "showgrid": false,
           "showline": true,
           "ticks": "outside",
           "title": {
            "standoff": 15
           },
           "zeroline": false,
           "zerolinecolor": "rgb(36,36,36)"
          },
          "yaxis": {
           "automargin": true,
           "gridcolor": "rgb(232,232,232)",
           "linecolor": "rgb(36,36,36)",
           "showgrid": false,
           "showline": true,
           "ticks": "outside",
           "title": {
            "standoff": 15
           },
           "zeroline": false,
           "zerolinecolor": "rgb(36,36,36)"
          }
         }
        },
        "title": {
         "text": "Forex Currencies Rates: GBP/USD – Test Distribution of MAE",
         "x": 0.5,
         "yanchor": "top"
        },
        "width": 927,
        "xaxis": {
         "anchor": "y",
         "domain": [
          0,
          1
         ]
        },
        "yaxis": {
         "anchor": "x",
         "domain": [
          0,
          1
         ]
        }
       }
      },
      "text/html": [
       "<div>                            <div id=\"a69299eb-2c94-4db5-9656-e87dd80aee4d\" class=\"plotly-graph-div\" style=\"height:630px; width:927px;\"></div>            <script type=\"text/javascript\">                require([\"plotly\"], function(Plotly) {                    window.PLOTLYENV=window.PLOTLYENV || {};                                    if (document.getElementById(\"a69299eb-2c94-4db5-9656-e87dd80aee4d\")) {                    Plotly.newPlot(                        \"a69299eb-2c94-4db5-9656-e87dd80aee4d\",                        [{\"name\":\"Median of Medians (1,7)\",\"type\":\"histogram\",\"x\":[0.0006833333333333321,0.00042333333333346805,0.0004133333333333137,0.000623333333333483,0.00040833333333329205,0.0004466666666666212,0.0005733333333332701,0.00025166666666663894,0.0003666666666666263,0.0003383333333332961,9.999999999998899e-05,0.0001399999999999846,0.0001983333333333152,0.0002516666666666575,0.00027333333333335875,0.00027500000000006225,0.000398333333333419,0.00039333333333345654,0.0004100000000001547,0.00026333333333330435,0.00010666666666665492,0.00014000000000001048,0.00027166666666669965,0.0002166666666667427,0.0004466666666667544,0.0003283333333334674,0.0003916666666668308,0.00011000000000001379,0.00013166666666668546,0.00012666666666668602,0.00012166666666669027,0.00020000000000004828,0.0003283333333334045,0.00042166666666672016,0.0006333333333334153,0.0009033333333334226,0.0010100000000001109,0.00027166666666663677,9.333333333332306e-05,9.666666666665601e-05,0.00012999999999998568,0.00021333333333330983,0.00035999999999996034,8.999999999999009e-05,0.00016999999999998128,0.000293333333333301,0.00043166666666661914,0.0005133333333332768,0.0008233333333332426,0.000396666666666623,0.00022999999999997466,0.00016333333333331534,0.00020666666666664392,0.0003249999999999642,0.0003133333333333062,0.0003033333333333147,0.00036833333333330756,0.0005433333333332883,0.0006083333333332812,0.0007933333333332607,0.0011199999999998841,0.0011549999999998764,0.00046166666666663434,0.0003200000000000129,0.00035166666666669824,0.000588333333333361,0.0008600000000000164,0.0003983333333333968,0.00023666666666673312,0.0004333333333334447,0.0004400000000001329,0.0007766666666667847,0.000586666666666602,0.00045999999999994933,0.000344999999999962,0.0003066666666666329,0.00022499999999997893,0.0005983333333332896,0.00037000000000000737,0.0004449999999999991,0.0006449999999999771,0.00065833333333332,0.0004283333333333787,0.0005166666666667208,0.0005600000000000382,0.0007116666666667474,0.0008383333333334372,0.000696666666666812,0.0004033333333332963,0.00018166666666665407,0.00018333333333332054,0.00016166666666665627,0.00019333333333331943,0.00032333333333332365,0.00044000000000000706,0.0007450000000000105,0.0012166666666666918,0.001683333333333381,0.0024550000000000257,0.002008333333333242,0.0013966666666666645,0.0006250000000000828,0.0013499999999999513,0.0009183333333333692,0.0008066666666667406,0.0012616666666667275,0.0008799999999999031,0.0002949999999999675,0.0008216666666665762,0.0002083333333333104,0.0002166666666666428,0.00026333333333330435,0.00016333333333331534,0.00036999999999995923,0.0001766666666666472,0.00025499999999997194,0.0002866666666666573,0.00041000000000001403,0.0005133333333333508,0.000790000000000024,0.00035166666666674263,8.666666666677925e-05,0.00014666666666674304,7.500000000008796e-05,0.00012833333333346723,0.00012666666666672673,0.00021000000000015822,0.00027000000000018123,0.00022499999999997893,0.0001783333333333137,0.00011999999999998679,0.0001383333333333181,9.333333333332306e-05,0.00011666666666665382,0.00013166666666665218,0.00012499999999998623,0.00013499999999998512,0.00032333333333329773,0.00015999999999998977,0.0002649999999999782,0.00022499999999998262,0.00026999999999997767,0.00018333333333332054,9.333333333333046e-05],\"xaxis\":\"x\",\"yaxis\":\"y\"},{\"name\":\"ARIMA (3,0,4)\",\"type\":\"histogram\",\"x\":[0.0007028897392596305,0.00028721206153633496,0.0005558044412924846,0.0003776383280395275,0.0003208604740854974,0.00025944199459858964,0.000550754596216226,0.00026436523062554803,0.0004612635386806119,9.80215214933929e-05,0.00011076406676353567,0.00011017128393790617,0.00014788526066115507,0.0003532696841973289,0.00029073284045071,0.0002909701928234587,0.0003415819817673841,0.0003493988782282316,0.0004987203654537346,0.00018876248519637725,0.0001654122317485518,0.00014000095931843888,0.00020260392197516409,0.00020929188613560967,0.00043214586404239177,0.00031373174165807055,0.0002825826126270877,0.00010072250789462389,0.00012998797665982517,0.0002901044181941222,0.00015246639596686964,0.0002017418241692918,0.0003191508542601381,0.0004298015003874093,0.0007116570251088953,0.0010134973746322514,0.0007440277608758501,0.0001914997393016408,0.0001062928810188731,0.0001904956071271502,0.0001190338989040122,0.0002694978611328724,0.0001555133827656078,8.884258060804691e-05,0.0001734354501807663,0.0003058197121506752,0.00044431839147148394,0.0005883235128040269,0.0007407147836563488,0.0004065524392947458,0.00016887033911989018,0.0001618101145158146,0.00022623421829650974,0.0003140071536797147,0.0003124817589146474,0.0003253696656014678,0.0004135903667487025,0.0006937122876662741,0.0005936127657682255,0.0007837777940774115,0.0011039208559500543,0.0010467876130977585,0.0002947978758269687,0.00033846434444107697,0.0004260760216815318,0.0007034876727773291,0.0008380376122684867,0.00017817995238349852,0.0002619993136506663,0.000525893427662442,0.0003940884704872157,0.0010668234169039466,0.0005937597172582872,0.00024795313121381095,0.00029619570023530585,0.00032203916064771354,0.00022432260734002544,0.0004914997715396015,0.0003641635935815716,0.0004723569342959403,0.0006251324682377213,0.0006536772756313258,0.0004446233335511492,0.0005469067133426615,0.0005857843405490264,0.0006979150891348189,0.0012048642510720834,0.0006754198103967083,0.0005890522973749738,0.00019055596191475493,0.0001528669689621546,0.00019236708480047104,0.00022310254786479523,0.00031192384153634346,0.0004263406969688151,0.0007545312544930701,0.0012235552761832005,0.0017365852616463803,0.0024695834589296473,0.00136134548376049,0.0014370640287796035,0.0005645280560177952,0.0015200383037409523,0.000975039505856723,0.000957902512659962,0.0011613300426690657,0.0007703289677356931,0.0002943003756536074,0.0008320090876708523,0.00021065281160121964,0.00022394682281453953,0.000250467044906999,0.00017183675210289407,0.0002823250672326731,0.00014611628226359383,0.000210545682712715,0.0003028684210716337,0.0004195973427153166,0.0005261038613955068,0.000903078639160515,0.00017812488511708134,9.215733777335015e-05,0.00012877034699486644,7.783332737157181e-05,0.00010186007472513525,0.00013530613869072356,0.0002989568563054249,0.00019548763692259403,0.0003310192053200082,0.00011537910426137424,0.0001298992880468123,0.00014803735230379072,0.00012827497714342403,0.00011902821194269553,0.000136563205828318,0.00013050524667069057,0.00014027198856173909,0.000238081773407528,0.00013721062250821037,0.0002575870204091668,0.00021464926120640844,0.0002611291734406366,8.821800225546535e-05,0.00016893448841420004],\"xaxis\":\"x\",\"yaxis\":\"y\"}],                        {\"font\":{\"size\":14},\"height\":630,\"template\":{\"data\":{\"bar\":[{\"error_x\":{\"color\":\"rgb(36,36,36)\"},\"error_y\":{\"color\":\"rgb(36,36,36)\"},\"marker\":{\"line\":{\"color\":\"white\",\"width\":0.5},\"pattern\":{\"fillmode\":\"overlay\",\"size\":10,\"solidity\":0.2}},\"type\":\"bar\"}],\"barpolar\":[{\"marker\":{\"line\":{\"color\":\"white\",\"width\":0.5},\"pattern\":{\"fillmode\":\"overlay\",\"size\":10,\"solidity\":0.2}},\"type\":\"barpolar\"}],\"carpet\":[{\"aaxis\":{\"endlinecolor\":\"rgb(36,36,36)\",\"gridcolor\":\"white\",\"linecolor\":\"white\",\"minorgridcolor\":\"white\",\"startlinecolor\":\"rgb(36,36,36)\"},\"baxis\":{\"endlinecolor\":\"rgb(36,36,36)\",\"gridcolor\":\"white\",\"linecolor\":\"white\",\"minorgridcolor\":\"white\",\"startlinecolor\":\"rgb(36,36,36)\"},\"type\":\"carpet\"}],\"choropleth\":[{\"colorbar\":{\"outlinewidth\":1,\"tickcolor\":\"rgb(36,36,36)\",\"ticks\":\"outside\"},\"type\":\"choropleth\"}],\"contour\":[{\"colorbar\":{\"outlinewidth\":1,\"tickcolor\":\"rgb(36,36,36)\",\"ticks\":\"outside\"},\"colorscale\":[[0.0,\"#440154\"],[0.1111111111111111,\"#482878\"],[0.2222222222222222,\"#3e4989\"],[0.3333333333333333,\"#31688e\"],[0.4444444444444444,\"#26828e\"],[0.5555555555555556,\"#1f9e89\"],[0.6666666666666666,\"#35b779\"],[0.7777777777777778,\"#6ece58\"],[0.8888888888888888,\"#b5de2b\"],[1.0,\"#fde725\"]],\"type\":\"contour\"}],\"contourcarpet\":[{\"colorbar\":{\"outlinewidth\":1,\"tickcolor\":\"rgb(36,36,36)\",\"ticks\":\"outside\"},\"type\":\"contourcarpet\"}],\"heatmap\":[{\"colorbar\":{\"outlinewidth\":1,\"tickcolor\":\"rgb(36,36,36)\",\"ticks\":\"outside\"},\"colorscale\":[[0.0,\"#440154\"],[0.1111111111111111,\"#482878\"],[0.2222222222222222,\"#3e4989\"],[0.3333333333333333,\"#31688e\"],[0.4444444444444444,\"#26828e\"],[0.5555555555555556,\"#1f9e89\"],[0.6666666666666666,\"#35b779\"],[0.7777777777777778,\"#6ece58\"],[0.8888888888888888,\"#b5de2b\"],[1.0,\"#fde725\"]],\"type\":\"heatmap\"}],\"heatmapgl\":[{\"colorbar\":{\"outlinewidth\":1,\"tickcolor\":\"rgb(36,36,36)\",\"ticks\":\"outside\"},\"colorscale\":[[0.0,\"#440154\"],[0.1111111111111111,\"#482878\"],[0.2222222222222222,\"#3e4989\"],[0.3333333333333333,\"#31688e\"],[0.4444444444444444,\"#26828e\"],[0.5555555555555556,\"#1f9e89\"],[0.6666666666666666,\"#35b779\"],[0.7777777777777778,\"#6ece58\"],[0.8888888888888888,\"#b5de2b\"],[1.0,\"#fde725\"]],\"type\":\"heatmapgl\"}],\"histogram\":[{\"marker\":{\"line\":{\"color\":\"white\",\"width\":0.6}},\"type\":\"histogram\"}],\"histogram2d\":[{\"colorbar\":{\"outlinewidth\":1,\"tickcolor\":\"rgb(36,36,36)\",\"ticks\":\"outside\"},\"colorscale\":[[0.0,\"#440154\"],[0.1111111111111111,\"#482878\"],[0.2222222222222222,\"#3e4989\"],[0.3333333333333333,\"#31688e\"],[0.4444444444444444,\"#26828e\"],[0.5555555555555556,\"#1f9e89\"],[0.6666666666666666,\"#35b779\"],[0.7777777777777778,\"#6ece58\"],[0.8888888888888888,\"#b5de2b\"],[1.0,\"#fde725\"]],\"type\":\"histogram2d\"}],\"histogram2dcontour\":[{\"colorbar\":{\"outlinewidth\":1,\"tickcolor\":\"rgb(36,36,36)\",\"ticks\":\"outside\"},\"colorscale\":[[0.0,\"#440154\"],[0.1111111111111111,\"#482878\"],[0.2222222222222222,\"#3e4989\"],[0.3333333333333333,\"#31688e\"],[0.4444444444444444,\"#26828e\"],[0.5555555555555556,\"#1f9e89\"],[0.6666666666666666,\"#35b779\"],[0.7777777777777778,\"#6ece58\"],[0.8888888888888888,\"#b5de2b\"],[1.0,\"#fde725\"]],\"type\":\"histogram2dcontour\"}],\"mesh3d\":[{\"colorbar\":{\"outlinewidth\":1,\"tickcolor\":\"rgb(36,36,36)\",\"ticks\":\"outside\"},\"type\":\"mesh3d\"}],\"parcoords\":[{\"line\":{\"colorbar\":{\"outlinewidth\":1,\"tickcolor\":\"rgb(36,36,36)\",\"ticks\":\"outside\"}},\"type\":\"parcoords\"}],\"pie\":[{\"automargin\":true,\"type\":\"pie\"}],\"scatter\":[{\"marker\":{\"colorbar\":{\"outlinewidth\":1,\"tickcolor\":\"rgb(36,36,36)\",\"ticks\":\"outside\"}},\"type\":\"scatter\"}],\"scatter3d\":[{\"line\":{\"colorbar\":{\"outlinewidth\":1,\"tickcolor\":\"rgb(36,36,36)\",\"ticks\":\"outside\"}},\"marker\":{\"colorbar\":{\"outlinewidth\":1,\"tickcolor\":\"rgb(36,36,36)\",\"ticks\":\"outside\"}},\"type\":\"scatter3d\"}],\"scattercarpet\":[{\"marker\":{\"colorbar\":{\"outlinewidth\":1,\"tickcolor\":\"rgb(36,36,36)\",\"ticks\":\"outside\"}},\"type\":\"scattercarpet\"}],\"scattergeo\":[{\"marker\":{\"colorbar\":{\"outlinewidth\":1,\"tickcolor\":\"rgb(36,36,36)\",\"ticks\":\"outside\"}},\"type\":\"scattergeo\"}],\"scattergl\":[{\"marker\":{\"colorbar\":{\"outlinewidth\":1,\"tickcolor\":\"rgb(36,36,36)\",\"ticks\":\"outside\"}},\"type\":\"scattergl\"}],\"scattermapbox\":[{\"marker\":{\"colorbar\":{\"outlinewidth\":1,\"tickcolor\":\"rgb(36,36,36)\",\"ticks\":\"outside\"}},\"type\":\"scattermapbox\"}],\"scatterpolar\":[{\"marker\":{\"colorbar\":{\"outlinewidth\":1,\"tickcolor\":\"rgb(36,36,36)\",\"ticks\":\"outside\"}},\"type\":\"scatterpolar\"}],\"scatterpolargl\":[{\"marker\":{\"colorbar\":{\"outlinewidth\":1,\"tickcolor\":\"rgb(36,36,36)\",\"ticks\":\"outside\"}},\"type\":\"scatterpolargl\"}],\"scatterternary\":[{\"marker\":{\"colorbar\":{\"outlinewidth\":1,\"tickcolor\":\"rgb(36,36,36)\",\"ticks\":\"outside\"}},\"type\":\"scatterternary\"}],\"surface\":[{\"colorbar\":{\"outlinewidth\":1,\"tickcolor\":\"rgb(36,36,36)\",\"ticks\":\"outside\"},\"colorscale\":[[0.0,\"#440154\"],[0.1111111111111111,\"#482878\"],[0.2222222222222222,\"#3e4989\"],[0.3333333333333333,\"#31688e\"],[0.4444444444444444,\"#26828e\"],[0.5555555555555556,\"#1f9e89\"],[0.6666666666666666,\"#35b779\"],[0.7777777777777778,\"#6ece58\"],[0.8888888888888888,\"#b5de2b\"],[1.0,\"#fde725\"]],\"type\":\"surface\"}],\"table\":[{\"cells\":{\"fill\":{\"color\":\"rgb(237,237,237)\"},\"line\":{\"color\":\"white\"}},\"header\":{\"fill\":{\"color\":\"rgb(217,217,217)\"},\"line\":{\"color\":\"white\"}},\"type\":\"table\"}]},\"layout\":{\"annotationdefaults\":{\"arrowhead\":0,\"arrowwidth\":1},\"autotypenumbers\":\"strict\",\"coloraxis\":{\"colorbar\":{\"outlinewidth\":1,\"tickcolor\":\"rgb(36,36,36)\",\"ticks\":\"outside\"}},\"colorscale\":{\"diverging\":[[0.0,\"rgb(103,0,31)\"],[0.1,\"rgb(178,24,43)\"],[0.2,\"rgb(214,96,77)\"],[0.3,\"rgb(244,165,130)\"],[0.4,\"rgb(253,219,199)\"],[0.5,\"rgb(247,247,247)\"],[0.6,\"rgb(209,229,240)\"],[0.7,\"rgb(146,197,222)\"],[0.8,\"rgb(67,147,195)\"],[0.9,\"rgb(33,102,172)\"],[1.0,\"rgb(5,48,97)\"]],\"sequential\":[[0.0,\"#440154\"],[0.1111111111111111,\"#482878\"],[0.2222222222222222,\"#3e4989\"],[0.3333333333333333,\"#31688e\"],[0.4444444444444444,\"#26828e\"],[0.5555555555555556,\"#1f9e89\"],[0.6666666666666666,\"#35b779\"],[0.7777777777777778,\"#6ece58\"],[0.8888888888888888,\"#b5de2b\"],[1.0,\"#fde725\"]],\"sequentialminus\":[[0.0,\"#440154\"],[0.1111111111111111,\"#482878\"],[0.2222222222222222,\"#3e4989\"],[0.3333333333333333,\"#31688e\"],[0.4444444444444444,\"#26828e\"],[0.5555555555555556,\"#1f9e89\"],[0.6666666666666666,\"#35b779\"],[0.7777777777777778,\"#6ece58\"],[0.8888888888888888,\"#b5de2b\"],[1.0,\"#fde725\"]]},\"colorway\":[\"#1F77B4\",\"#FF7F0E\",\"#2CA02C\",\"#D62728\",\"#9467BD\",\"#8C564B\",\"#E377C2\",\"#7F7F7F\",\"#BCBD22\",\"#17BECF\"],\"font\":{\"color\":\"rgb(36,36,36)\"},\"geo\":{\"bgcolor\":\"white\",\"lakecolor\":\"white\",\"landcolor\":\"white\",\"showlakes\":true,\"showland\":true,\"subunitcolor\":\"white\"},\"hoverlabel\":{\"align\":\"left\"},\"hovermode\":\"closest\",\"mapbox\":{\"style\":\"light\"},\"paper_bgcolor\":\"white\",\"plot_bgcolor\":\"white\",\"polar\":{\"angularaxis\":{\"gridcolor\":\"rgb(232,232,232)\",\"linecolor\":\"rgb(36,36,36)\",\"showgrid\":false,\"showline\":true,\"ticks\":\"outside\"},\"bgcolor\":\"white\",\"radialaxis\":{\"gridcolor\":\"rgb(232,232,232)\",\"linecolor\":\"rgb(36,36,36)\",\"showgrid\":false,\"showline\":true,\"ticks\":\"outside\"}},\"scene\":{\"xaxis\":{\"backgroundcolor\":\"white\",\"gridcolor\":\"rgb(232,232,232)\",\"gridwidth\":2,\"linecolor\":\"rgb(36,36,36)\",\"showbackground\":true,\"showgrid\":false,\"showline\":true,\"ticks\":\"outside\",\"zeroline\":false,\"zerolinecolor\":\"rgb(36,36,36)\"},\"yaxis\":{\"backgroundcolor\":\"white\",\"gridcolor\":\"rgb(232,232,232)\",\"gridwidth\":2,\"linecolor\":\"rgb(36,36,36)\",\"showbackground\":true,\"showgrid\":false,\"showline\":true,\"ticks\":\"outside\",\"zeroline\":false,\"zerolinecolor\":\"rgb(36,36,36)\"},\"zaxis\":{\"backgroundcolor\":\"white\",\"gridcolor\":\"rgb(232,232,232)\",\"gridwidth\":2,\"linecolor\":\"rgb(36,36,36)\",\"showbackground\":true,\"showgrid\":false,\"showline\":true,\"ticks\":\"outside\",\"zeroline\":false,\"zerolinecolor\":\"rgb(36,36,36)\"}},\"shapedefaults\":{\"fillcolor\":\"black\",\"line\":{\"width\":0},\"opacity\":0.3},\"ternary\":{\"aaxis\":{\"gridcolor\":\"rgb(232,232,232)\",\"linecolor\":\"rgb(36,36,36)\",\"showgrid\":false,\"showline\":true,\"ticks\":\"outside\"},\"baxis\":{\"gridcolor\":\"rgb(232,232,232)\",\"linecolor\":\"rgb(36,36,36)\",\"showgrid\":false,\"showline\":true,\"ticks\":\"outside\"},\"bgcolor\":\"white\",\"caxis\":{\"gridcolor\":\"rgb(232,232,232)\",\"linecolor\":\"rgb(36,36,36)\",\"showgrid\":false,\"showline\":true,\"ticks\":\"outside\"}},\"title\":{\"x\":0.05},\"xaxis\":{\"automargin\":true,\"gridcolor\":\"rgb(232,232,232)\",\"linecolor\":\"rgb(36,36,36)\",\"showgrid\":false,\"showline\":true,\"ticks\":\"outside\",\"title\":{\"standoff\":15},\"zeroline\":false,\"zerolinecolor\":\"rgb(36,36,36)\"},\"yaxis\":{\"automargin\":true,\"gridcolor\":\"rgb(232,232,232)\",\"linecolor\":\"rgb(36,36,36)\",\"showgrid\":false,\"showline\":true,\"ticks\":\"outside\",\"title\":{\"standoff\":15},\"zeroline\":false,\"zerolinecolor\":\"rgb(36,36,36)\"}}},\"title\":{\"text\":\"Forex Currencies Rates: GBP/USD \\u2013 Test Distribution of MAE\",\"x\":0.5,\"yanchor\":\"top\"},\"width\":927,\"xaxis\":{\"anchor\":\"y\",\"domain\":[0.0,1.0]},\"yaxis\":{\"anchor\":\"x\",\"domain\":[0.0,1.0]}},                        {\"responsive\": true}                    ).then(function(){\n",
       "                            \n",
       "var gd = document.getElementById('a69299eb-2c94-4db5-9656-e87dd80aee4d');\n",
       "var x = new MutationObserver(function (mutations, observer) {{\n",
       "        var display = window.getComputedStyle(gd).display;\n",
       "        if (!display || display === 'none') {{\n",
       "            console.log([gd, 'removed!']);\n",
       "            Plotly.purge(gd);\n",
       "            observer.disconnect();\n",
       "        }}\n",
       "}});\n",
       "\n",
       "// Listen for the removal of the full notebook cells\n",
       "var notebookContainer = gd.closest('#notebook-container');\n",
       "if (notebookContainer) {{\n",
       "    x.observe(notebookContainer, {childList: true});\n",
       "}}\n",
       "\n",
       "// Listen for the clearing of the current output cell\n",
       "var outputEl = gd.closest('.output');\n",
       "if (outputEl) {{\n",
       "    x.observe(outputEl, {childList: true});\n",
       "}}\n",
       "\n",
       "                        })                };                });            </script>        </div>"
      ]
     },
     "metadata": {},
     "output_type": "display_data"
    },
    {
     "data": {
      "application/javascript": [
       "\n",
       "            setTimeout(function() {\n",
       "                var nbb_cell_id = 13;\n",
       "                var nbb_unformatted_code = \"scoring_name = \\\"MAE\\\"\\ndata_fig_name = f\\\"{data_type}: {data_name}\\\"\\nkwargs = dict(\\n    title=f\\\"{data_fig_name} \\u2013 Test Distribution of {scoring_name}\\\", engine=\\\"plotly\\\"\\n)\\nfig = None\\nfor (model, version), scores in test_scores.items():\\n    fig = plot_hist(scores[scoring_name], name=f\\\"{model} {version}\\\", **kwargs, fig=fig)\\n    kwargs = {}\\ndisplay(fig)\";\n",
       "                var nbb_formatted_code = \"scoring_name = \\\"MAE\\\"\\ndata_fig_name = f\\\"{data_type}: {data_name}\\\"\\nkwargs = dict(\\n    title=f\\\"{data_fig_name} \\u2013 Test Distribution of {scoring_name}\\\", engine=\\\"plotly\\\"\\n)\\nfig = None\\nfor (model, version), scores in test_scores.items():\\n    fig = plot_hist(scores[scoring_name], name=f\\\"{model} {version}\\\", **kwargs, fig=fig)\\n    kwargs = {}\\ndisplay(fig)\";\n",
       "                var nbb_cells = Jupyter.notebook.get_cells();\n",
       "                for (var i = 0; i < nbb_cells.length; ++i) {\n",
       "                    if (nbb_cells[i].input_prompt_number == nbb_cell_id) {\n",
       "                        if (nbb_cells[i].get_text() == nbb_unformatted_code) {\n",
       "                             nbb_cells[i].set_text(nbb_formatted_code);\n",
       "                        }\n",
       "                        break;\n",
       "                    }\n",
       "                }\n",
       "            }, 500);\n",
       "            "
      ],
      "text/plain": [
       "<IPython.core.display.Javascript object>"
      ]
     },
     "metadata": {},
     "output_type": "display_data"
    }
   ],
   "source": [
    "scoring_name = \"MAE\"\n",
    "data_fig_name = f\"{data_type}: {data_name}\"\n",
    "kwargs = dict(\n",
    "    title=f\"{data_fig_name} – Test Distribution of {scoring_name}\", engine=\"plotly\"\n",
    ")\n",
    "fig = None\n",
    "for (model, version), scores in test_scores.items():\n",
    "    fig = plot_hist(scores[scoring_name], name=f\"{model} {version}\", **kwargs, fig=fig)\n",
    "    kwargs = {}\n",
    "display(fig)"
   ]
  },
  {
   "cell_type": "markdown",
   "metadata": {},
   "source": [
    "### Models Predictions Visualization"
   ]
  },
  {
   "cell_type": "code",
   "execution_count": 17,
   "metadata": {},
   "outputs": [
    {
     "data": {
      "image/png": "[encoded data removed]",
      "text/plain": [
       "<Figure size 864x576 with 1 Axes>"
      ]
     },
     "metadata": {},
     "output_type": "display_data"
    },
    {
     "data": {
      "application/javascript": [
       "\n",
       "            setTimeout(function() {\n",
       "                var nbb_cell_id = 17;\n",
       "                var nbb_unformatted_code = \"short_test_intv = tss.Interval(ts, datetime(2021, 8, 16, 10), datetime(2021, 8, 16, 18, 30))\\nfig_time_delta = timedelta(minutes=10)\\nfig = plot_ground_truth(\\n    short_test_intv,\\n    mode=\\\"test\\\",\\n    data_type=data_type,\\n    data_name=data_name,\\n    color=\\\"lightgrey\\\",\\n)\\nfor ((model, version), preds), color in zip(test_preds.items(), mcolors.TABLEAU_COLORS):\\n    plot_model_test_prediction(\\n        short_test_intv,\\n        fig_time_delta,\\n        preds,\\n        model_name=model,\\n        model_version=version,\\n        fig=fig,\\n        color=color,\\n    )\\n\\ndisplay(fig)\";\n",
       "                var nbb_formatted_code = \"short_test_intv = tss.Interval(\\n    ts, datetime(2021, 8, 16, 10), datetime(2021, 8, 16, 18, 30)\\n)\\nfig_time_delta = timedelta(minutes=10)\\nfig = plot_ground_truth(\\n    short_test_intv,\\n    mode=\\\"test\\\",\\n    data_type=data_type,\\n    data_name=data_name,\\n    color=\\\"lightgrey\\\",\\n)\\nfor ((model, version), preds), color in zip(test_preds.items(), mcolors.TABLEAU_COLORS):\\n    plot_model_test_prediction(\\n        short_test_intv,\\n        fig_time_delta,\\n        preds,\\n        model_name=model,\\n        model_version=version,\\n        fig=fig,\\n        color=color,\\n    )\\n\\ndisplay(fig)\";\n",
       "                var nbb_cells = Jupyter.notebook.get_cells();\n",
       "                for (var i = 0; i < nbb_cells.length; ++i) {\n",
       "                    if (nbb_cells[i].input_prompt_number == nbb_cell_id) {\n",
       "                        if (nbb_cells[i].get_text() == nbb_unformatted_code) {\n",
       "                             nbb_cells[i].set_text(nbb_formatted_code);\n",
       "                        }\n",
       "                        break;\n",
       "                    }\n",
       "                }\n",
       "            }, 500);\n",
       "            "
      ],
      "text/plain": [
       "<IPython.core.display.Javascript object>"
      ]
     },
     "metadata": {},
     "output_type": "display_data"
    }
   ],
   "source": [
    "short_test_intv = tss.Interval(\n",
    "    ts, datetime(2021, 8, 16, 10), datetime(2021, 8, 16, 18, 30)\n",
    ")\n",
    "fig_time_delta = timedelta(minutes=10)\n",
    "fig = plot_ground_truth(\n",
    "    short_test_intv,\n",
    "    mode=\"test\",\n",
    "    data_type=data_type,\n",
    "    data_name=data_name,\n",
    "    color=\"lightgrey\",\n",
    ")\n",
    "for ((model, version), preds), color in zip(test_preds.items(), mcolors.TABLEAU_COLORS):\n",
    "    plot_model_test_prediction(\n",
    "        short_test_intv,\n",
    "        fig_time_delta,\n",
    "        preds,\n",
    "        model_name=model,\n",
    "        model_version=version,\n",
    "        fig=fig,\n",
    "        color=color,\n",
    "    )\n",
    "\n",
    "display(fig)"
   ]
  }
 ],
 "metadata": {
  "hide_input": false,
  "kernelspec": {
   "display_name": "Python 3",
   "language": "python",
   "name": "python3"
  },
  "language_info": {
   "codemirror_mode": {
    "name": "ipython",
    "version": 3
   },
   "file_extension": ".py",
   "mimetype": "text/x-python",
   "name": "python",
   "nbconvert_exporter": "python",
   "pygments_lexer": "ipython3",
   "version": "3.8.12"
  },
  "latex_envs": {
   "LaTeX_envs_menu_present": true,
   "autoclose": false,
   "autocomplete": true,
   "bibliofile": "biblio.bib",
   "cite_by": "apalike",
   "current_citInitial": 1,
   "eqLabelWithNumbers": true,
   "eqNumInitial": 1,
   "hotkeys": {
    "equation": "Ctrl-E",
    "itemize": "Ctrl-I"
   },
   "labels_anchors": false,
   "latex_user_defs": false,
   "report_style_numbering": false,
   "user_envs_cfg": false
  },
  "toc": {
   "base_numbering": 1,
   "nav_menu": {},
   "number_sections": true,
   "sideBar": true,
   "skip_h1_title": true,
   "title_cell": "Table of Contents",
   "title_sidebar": "Contents",
   "toc_cell": true,
   "toc_position": {
    "height": "calc(100% - 180px)",
    "left": "10px",
    "top": "150px",
    "width": "338.35px"
   },
   "toc_section_display": true,
   "toc_window_display": true
  },
  "varInspector": {
   "cols": {
    "lenName": 16,
    "lenType": 16,
    "lenVar": 40
   },
   "kernels_config": {
    "python": {
     "delete_cmd_postfix": "",
     "delete_cmd_prefix": "del ",
     "library": "var_list.py",
     "varRefreshCmd": "print(var_dic_list())"
    },
    "r": {
     "delete_cmd_postfix": ") ",
     "delete_cmd_prefix": "rm(",
     "library": "var_list.r",
     "varRefreshCmd": "cat(var_dic_list()) "
    }
   },
   "types_to_exclude": [
    "module",
    "function",
    "builtin_function_or_method",
    "instance",
    "_Feature"
   ],
   "window_display": false
  }
 },
 "nbformat": 4,
 "nbformat_minor": 4
}
