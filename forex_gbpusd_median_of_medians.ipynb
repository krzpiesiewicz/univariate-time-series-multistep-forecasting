{
 "cells": [
  {
   "cell_type": "markdown",
   "metadata": {},
   "source": [
    "# Forex Currencies Rates: GBP/USD - Median of Medians"
   ]
  },
  {
   "cell_type": "markdown",
   "metadata": {
    "toc": true
   },
   "source": [
    "<h1>Table of Contents<span class=\"tocSkip\"></span></h1>\n",
    "<div class=\"toc\"><ul class=\"toc-item\"><li><span><a href=\"#Initialization\" data-toc-modified-id=\"Initialization-1\"><span class=\"toc-item-num\">1&nbsp;&nbsp;</span>Initialization</a></span></li><li><span><a href=\"#Hyper-Parameters-Search\" data-toc-modified-id=\"Hyper-Parameters-Search-2\"><span class=\"toc-item-num\">2&nbsp;&nbsp;</span>Hyper Parameters Search</a></span></li><li><span><a href=\"#Training-and-Validation\" data-toc-modified-id=\"Training-and-Validation-3\"><span class=\"toc-item-num\">3&nbsp;&nbsp;</span>Training and Validation</a></span><ul class=\"toc-item\"><li><span><a href=\"#Distributions-of-Validation-Errors\" data-toc-modified-id=\"Distributions-of-Validation-Errors-3.1\"><span class=\"toc-item-num\">3.1&nbsp;&nbsp;</span>Distributions of Validation Errors</a></span></li><li><span><a href=\"#Visualization-of-Validation-Predictions\" data-toc-modified-id=\"Visualization-of-Validation-Predictions-3.2\"><span class=\"toc-item-num\">3.2&nbsp;&nbsp;</span>Visualization of Validation Predictions</a></span></li></ul></li><li><span><a href=\"#Test-Predictions\" data-toc-modified-id=\"Test-Predictions-4\"><span class=\"toc-item-num\">4&nbsp;&nbsp;</span>Test Predictions</a></span></li></ul></div>"
   ]
  },
  {
   "cell_type": "markdown",
   "metadata": {},
   "source": [
    "## Initialization"
   ]
  },
  {
   "cell_type": "code",
   "execution_count": 1,
   "metadata": {
    "scrolled": true
   },
   "outputs": [],
   "source": [
    "# !pip install --use-feature=in-tree-build psutil requests pmdarima nb_black"
   ]
  },
  {
   "cell_type": "code",
   "execution_count": 2,
   "metadata": {
    "scrolled": false
   },
   "outputs": [],
   "source": [
    "# !pip install --use-feature=in-tree-build ../pytorch-fit/\n",
    "# !pip install --use-feature=in-tree-build git+https://github.com/krzpiesiewicz/pytorch-fit"
   ]
  },
  {
   "cell_type": "code",
   "execution_count": 3,
   "metadata": {
    "scrolled": true
   },
   "outputs": [],
   "source": [
    "# !pip install --use-feature=in-tree-build ../timeseries/\n",
    "# !pip install --use-feature=in-tree-build git+https://github.com/krzpiesiewicz/timeseries"
   ]
  },
  {
   "cell_type": "code",
   "execution_count": 4,
   "metadata": {},
   "outputs": [
    {
     "data": {
      "application/javascript": [
       "\n",
       "            setTimeout(function() {\n",
       "                var nbb_cell_id = 4;\n",
       "                var nbb_unformatted_code = \"%load_ext nb_black\\n%load_ext autoreload\\n%autoreload 2\\n%aimport timeseries\";\n",
       "                var nbb_formatted_code = \"%load_ext nb_black\\n%load_ext autoreload\\n%autoreload 2\\n%aimport timeseries\";\n",
       "                var nbb_cells = Jupyter.notebook.get_cells();\n",
       "                for (var i = 0; i < nbb_cells.length; ++i) {\n",
       "                    if (nbb_cells[i].input_prompt_number == nbb_cell_id) {\n",
       "                        if (nbb_cells[i].get_text() == nbb_unformatted_code) {\n",
       "                             nbb_cells[i].set_text(nbb_formatted_code);\n",
       "                        }\n",
       "                        break;\n",
       "                    }\n",
       "                }\n",
       "            }, 500);\n",
       "            "
      ],
      "text/plain": [
       "<IPython.core.display.Javascript object>"
      ]
     },
     "metadata": {},
     "output_type": "display_data"
    }
   ],
   "source": [
    "%load_ext nb_black\n",
    "%load_ext autoreload\n",
    "%autoreload 2\n",
    "%aimport timeseries"
   ]
  },
  {
   "cell_type": "code",
   "execution_count": 5,
   "metadata": {},
   "outputs": [
    {
     "data": {
      "application/javascript": [
       "\n",
       "            setTimeout(function() {\n",
       "                var nbb_cell_id = 5;\n",
       "                var nbb_unformatted_code = \"import os\\nimport IPython.display\\nfrom pprint import pprint\\nfrom datetime import datetime, timedelta\\nimport numpy as np\\nimport pandas as pd\\n\\nimport timeseries as tss\\nfrom timeseries.plotting import plot_ts, plot_hist\\n\\nfrom utils.timeseries_data import ForexGBPUSDData\\nfrom utils.results import Results\\nfrom utils.plotting import (\\n    plot_model_test_prediction,\\n    plot_ground_truth,\\n    plot_hist_model_scores,\\n)\\nfrom scorings import get_comparison_scorings\\nfrom average_scoring import average_scores\\nfrom hyper_params import make_grid, grid_search_hyper_params\\nfrom models.median_of_medians import MedianOfMediansModel\";\n",
       "                var nbb_formatted_code = \"import os\\nimport IPython.display\\nfrom pprint import pprint\\nfrom datetime import datetime, timedelta\\nimport numpy as np\\nimport pandas as pd\\n\\nimport timeseries as tss\\nfrom timeseries.plotting import plot_ts, plot_hist\\n\\nfrom utils.timeseries_data import ForexGBPUSDData\\nfrom utils.results import Results\\nfrom utils.plotting import (\\n    plot_model_test_prediction,\\n    plot_ground_truth,\\n    plot_hist_model_scores,\\n)\\nfrom scorings import get_comparison_scorings\\nfrom average_scoring import average_scores\\nfrom hyper_params import make_grid, grid_search_hyper_params\\nfrom models.median_of_medians import MedianOfMediansModel\";\n",
       "                var nbb_cells = Jupyter.notebook.get_cells();\n",
       "                for (var i = 0; i < nbb_cells.length; ++i) {\n",
       "                    if (nbb_cells[i].input_prompt_number == nbb_cell_id) {\n",
       "                        if (nbb_cells[i].get_text() == nbb_unformatted_code) {\n",
       "                             nbb_cells[i].set_text(nbb_formatted_code);\n",
       "                        }\n",
       "                        break;\n",
       "                    }\n",
       "                }\n",
       "            }, 500);\n",
       "            "
      ],
      "text/plain": [
       "<IPython.core.display.Javascript object>"
      ]
     },
     "metadata": {},
     "output_type": "display_data"
    }
   ],
   "source": [
    "import os\n",
    "import IPython.display\n",
    "from pprint import pprint\n",
    "from datetime import datetime, timedelta\n",
    "import numpy as np\n",
    "import pandas as pd\n",
    "\n",
    "import timeseries as tss\n",
    "from timeseries.plotting import plot_ts, plot_hist\n",
    "\n",
    "from utils.timeseries_data import ForexGBPUSDData\n",
    "from utils.results import Results\n",
    "from utils.plotting import (\n",
    "    plot_model_test_prediction,\n",
    "    plot_ground_truth,\n",
    "    plot_hist_model_scores,\n",
    ")\n",
    "from scorings import get_comparison_scorings\n",
    "from average_scoring import average_scores\n",
    "from hyper_params import make_grid, grid_search_hyper_params\n",
    "from models.median_of_medians import MedianOfMediansModel"
   ]
  },
  {
   "cell_type": "code",
   "execution_count": 6,
   "metadata": {},
   "outputs": [
    {
     "data": {
      "application/javascript": [
       "\n",
       "            setTimeout(function() {\n",
       "                var nbb_cell_id = 6;\n",
       "                var nbb_unformatted_code = \"import nb_black\\n\\nfrom utils.notebook_init import notebook_init\\n\\nnotebook_init()\";\n",
       "                var nbb_formatted_code = \"import nb_black\\n\\nfrom utils.notebook_init import notebook_init\\n\\nnotebook_init()\";\n",
       "                var nbb_cells = Jupyter.notebook.get_cells();\n",
       "                for (var i = 0; i < nbb_cells.length; ++i) {\n",
       "                    if (nbb_cells[i].input_prompt_number == nbb_cell_id) {\n",
       "                        if (nbb_cells[i].get_text() == nbb_unformatted_code) {\n",
       "                             nbb_cells[i].set_text(nbb_formatted_code);\n",
       "                        }\n",
       "                        break;\n",
       "                    }\n",
       "                }\n",
       "            }, 500);\n",
       "            "
      ],
      "text/plain": [
       "<IPython.core.display.Javascript object>"
      ]
     },
     "metadata": {},
     "output_type": "display_data"
    }
   ],
   "source": [
    "import nb_black\n",
    "\n",
    "from utils.notebook_init import notebook_init\n",
    "\n",
    "notebook_init()"
   ]
  },
  {
   "cell_type": "code",
   "execution_count": 7,
   "metadata": {},
   "outputs": [
    {
     "data": {
      "application/javascript": [
       "\n",
       "            setTimeout(function() {\n",
       "                var nbb_cell_id = 7;\n",
       "                var nbb_unformatted_code = \"scorings = get_comparison_scorings()\\n\\nts_data = ForexGBPUSDData()\\ndata_type = ts_data.data_type\\ndata_name = ts_data.data_name\\n\\nval_results = Results(data_type, data_name, \\\"val\\\")\\ntest_results = Results(data_type, data_name, \\\"test\\\")\\n\\nts = ts_data.ts\\ntrain_intv = ts_data.train_interval\\nval_intv = ts_data.val_interval\\ntest_intv = ts_data.test_interval\\npred_steps = ts_data.pred_steps\\npred_jump = ts_data.pred_jump\";\n",
       "                var nbb_formatted_code = \"scorings = get_comparison_scorings()\\n\\nts_data = ForexGBPUSDData()\\ndata_type = ts_data.data_type\\ndata_name = ts_data.data_name\\n\\nval_results = Results(data_type, data_name, \\\"val\\\")\\ntest_results = Results(data_type, data_name, \\\"test\\\")\\n\\nts = ts_data.ts\\ntrain_intv = ts_data.train_interval\\nval_intv = ts_data.val_interval\\ntest_intv = ts_data.test_interval\\npred_steps = ts_data.pred_steps\\npred_jump = ts_data.pred_jump\";\n",
       "                var nbb_cells = Jupyter.notebook.get_cells();\n",
       "                for (var i = 0; i < nbb_cells.length; ++i) {\n",
       "                    if (nbb_cells[i].input_prompt_number == nbb_cell_id) {\n",
       "                        if (nbb_cells[i].get_text() == nbb_unformatted_code) {\n",
       "                             nbb_cells[i].set_text(nbb_formatted_code);\n",
       "                        }\n",
       "                        break;\n",
       "                    }\n",
       "                }\n",
       "            }, 500);\n",
       "            "
      ],
      "text/plain": [
       "<IPython.core.display.Javascript object>"
      ]
     },
     "metadata": {},
     "output_type": "display_data"
    }
   ],
   "source": [
    "scorings = get_comparison_scorings()\n",
    "\n",
    "ts_data = ForexGBPUSDData()\n",
    "data_type = ts_data.data_type\n",
    "data_name = ts_data.data_name\n",
    "\n",
    "val_results = Results(data_type, data_name, \"val\")\n",
    "test_results = Results(data_type, data_name, \"test\")\n",
    "\n",
    "ts = ts_data.ts\n",
    "train_intv = ts_data.train_interval\n",
    "val_intv = ts_data.val_interval\n",
    "test_intv = ts_data.test_interval\n",
    "pred_steps = ts_data.pred_steps\n",
    "pred_jump = ts_data.pred_jump"
   ]
  },
  {
   "cell_type": "code",
   "execution_count": 12,
   "metadata": {},
   "outputs": [
    {
     "data": {
      "application/vnd.plotly.v1+json": {
       "config": {
        "plotlyServerURL": "https://plot.ly"
       },
       "data": [
        {
         "legendgroup": "",
         "line": {
          "color": "steelblue",
          "width": 1.5
         },
         "name": "",
         "showlegend": true,
         "type": "scatter",
         "x": [
          "2021-07-26T00:00:00",
          "2021-07-26T00:01:00",
          "2021-07-26T00:02:00",
          "2021-07-26T00:03:00",
          "2021-07-26T00:04:00",
          "2021-07-26T00:05:00",
          "2021-07-26T00:06:00",
          "2021-07-26T00:07:00",
          "2021-07-26T00:08:00",
          "2021-07-26T00:09:00",
          "2021-07-26T00:10:00",
          "2021-07-26T00:11:00",
          "2021-07-26T00:12:00",
          "2021-07-26T00:13:00",
          "2021-07-26T00:14:00",
          "2021-07-26T00:15:00",
          "2021-07-26T00:16:00",
          "2021-07-26T00:17:00",
          "2021-07-26T00:18:00",
          "2021-07-26T00:19:00",
          "2021-07-26T00:20:00",
          "2021-07-26T00:21:00",
          "2021-07-26T00:22:00",
          "2021-07-26T00:23:00",
          "2021-07-26T00:24:00",
          "2021-07-26T00:25:00",
          "2021-07-26T00:26:00",
          "2021-07-26T00:27:00",
          "2021-07-26T00:28:00",
          "2021-07-26T00:29:00",
          "2021-07-26T00:30:00",
          "2021-07-26T00:31:00",
          "2021-07-26T00:32:00",
          "2021-07-26T00:33:00",
          "2021-07-26T00:34:00",
          "2021-07-26T00:35:00",
          "2021-07-26T00:36:00",
          "2021-07-26T00:37:00",
          "2021-07-26T00:38:00",
          "2021-07-26T00:39:00",
          "2021-07-26T00:40:00",
          "2021-07-26T00:41:00",
          "2021-07-26T00:42:00",
          "2021-07-26T00:43:00",
          "2021-07-26T00:44:00",
          "2021-07-26T00:45:00",
          "2021-07-26T00:46:00",
          "2021-07-26T00:47:00",
          "2021-07-26T00:48:00",
          "2021-07-26T00:49:00",
          "2021-07-26T00:50:00",
          "2021-07-26T00:51:00",
          "2021-07-26T00:52:00",
          "2021-07-26T00:53:00",
          "2021-07-26T00:54:00",
          "2021-07-26T00:55:00",
          "2021-07-26T00:56:00",
          "2021-07-26T00:57:00",
          "2021-07-26T00:58:00",
          "2021-07-26T00:59:00",
          "2021-07-26T01:00:00",
          "2021-07-26T01:01:00",
          "2021-07-26T01:02:00",
          "2021-07-26T01:03:00",
          "2021-07-26T01:04:00",
          "2021-07-26T01:05:00",
          "2021-07-26T01:06:00",
          "2021-07-26T01:07:00",
          "2021-07-26T01:08:00",
          "2021-07-26T01:09:00",
          "2021-07-26T01:10:00",
          "2021-07-26T01:11:00",
          "2021-07-26T01:12:00",
          "2021-07-26T01:13:00",
          "2021-07-26T01:14:00",
          "2021-07-26T01:15:00",
          "2021-07-26T01:16:00",
          "2021-07-26T01:17:00",
          "2021-07-26T01:18:00",
          "2021-07-26T01:19:00",
          "2021-07-26T01:20:00",
          "2021-07-26T01:21:00",
          "2021-07-26T01:22:00",
          "2021-07-26T01:23:00",
          "2021-07-26T01:24:00",
          "2021-07-26T01:25:00",
          "2021-07-26T01:26:00",
          "2021-07-26T01:27:00",
          "2021-07-26T01:28:00",
          "2021-07-26T01:29:00",
          "2021-07-26T01:30:00",
          "2021-07-26T01:31:00",
          "2021-07-26T01:32:00",
          "2021-07-26T01:33:00",
          "2021-07-26T01:34:00",
          "2021-07-26T01:35:00",
          "2021-07-26T01:36:00",
          "2021-07-26T01:37:00",
          "2021-07-26T01:38:00",
          "2021-07-26T01:39:00",
          "2021-07-26T01:40:00",
          "2021-07-26T01:41:00",
          "2021-07-26T01:42:00",
          "2021-07-26T01:43:00",
          "2021-07-26T01:44:00",
          "2021-07-26T01:45:00",
          "2021-07-26T01:46:00",
          "2021-07-26T01:47:00",
          "2021-07-26T01:48:00",
          "2021-07-26T01:49:00",
          "2021-07-26T01:50:00",
          "2021-07-26T01:51:00",
          "2021-07-26T01:52:00",
          "2021-07-26T01:53:00",
          "2021-07-26T01:54:00",
          "2021-07-26T01:55:00",
          "2021-07-26T01:56:00",
          "2021-07-26T01:57:00",
          "2021-07-26T01:58:00",
          "2021-07-26T01:59:00",
          "2021-07-26T02:00:00",
          "2021-07-26T02:01:00",
          "2021-07-26T02:02:00",
          "2021-07-26T02:03:00",
          "2021-07-26T02:04:00",
          "2021-07-26T02:05:00",
          "2021-07-26T02:06:00",
          "2021-07-26T02:07:00",
          "2021-07-26T02:08:00",
          "2021-07-26T02:09:00",
          "2021-07-26T02:10:00",
          "2021-07-26T02:11:00",
          "2021-07-26T02:12:00",
          "2021-07-26T02:13:00",
          "2021-07-26T02:14:00",
          "2021-07-26T02:15:00",
          "2021-07-26T02:16:00",
          "2021-07-26T02:17:00",
          "2021-07-26T02:18:00",
          "2021-07-26T02:19:00",
          "2021-07-26T02:20:00",
          "2021-07-26T02:21:00",
          "2021-07-26T02:22:00",
          "2021-07-26T02:23:00",
          "2021-07-26T02:24:00",
          "2021-07-26T02:25:00",
          "2021-07-26T02:26:00",
          "2021-07-26T02:27:00",
          "2021-07-26T02:28:00",
          "2021-07-26T02:29:00",
          "2021-07-26T02:30:00",
          "2021-07-26T02:31:00",
          "2021-07-26T02:32:00",
          "2021-07-26T02:33:00",
          "2021-07-26T02:34:00",
          "2021-07-26T02:35:00",
          "2021-07-26T02:36:00",
          "2021-07-26T02:37:00",
          "2021-07-26T02:38:00",
          "2021-07-26T02:39:00",
          "2021-07-26T02:40:00",
          "2021-07-26T02:41:00",
          "2021-07-26T02:42:00",
          "2021-07-26T02:43:00",
          "2021-07-26T02:44:00",
          "2021-07-26T02:45:00",
          "2021-07-26T02:46:00",
          "2021-07-26T02:47:00",
          "2021-07-26T02:48:00",
          "2021-07-26T02:49:00",
          "2021-07-26T02:50:00",
          "2021-07-26T02:51:00",
          "2021-07-26T02:52:00",
          "2021-07-26T02:53:00",
          "2021-07-26T02:54:00",
          "2021-07-26T02:55:00",
          "2021-07-26T02:56:00",
          "2021-07-26T02:57:00",
          "2021-07-26T02:58:00",
          "2021-07-26T02:59:00",
          "2021-07-26T03:00:00",
          "2021-07-26T03:01:00",
          "2021-07-26T03:02:00",
          "2021-07-26T03:03:00",
          "2021-07-26T03:04:00",
          "2021-07-26T03:05:00",
          "2021-07-26T03:06:00",
          "2021-07-26T03:07:00",
          "2021-07-26T03:08:00",
          "2021-07-26T03:09:00",
          "2021-07-26T03:10:00",
          "2021-07-26T03:11:00",
          "2021-07-26T03:12:00",
          "2021-07-26T03:13:00",
          "2021-07-26T03:14:00",
          "2021-07-26T03:15:00",
          "2021-07-26T03:16:00",
          "2021-07-26T03:17:00",
          "2021-07-26T03:18:00",
          "2021-07-26T03:19:00",
          "2021-07-26T03:20:00",
          "2021-07-26T03:21:00",
          "2021-07-26T03:22:00",
          "2021-07-26T03:23:00",
          "2021-07-26T03:24:00",
          "2021-07-26T03:25:00",
          "2021-07-26T03:26:00",
          "2021-07-26T03:27:00",
          "2021-07-26T03:28:00",
          "2021-07-26T03:29:00",
          "2021-07-26T03:30:00",
          "2021-07-26T03:31:00",
          "2021-07-26T03:32:00",
          "2021-07-26T03:33:00",
          "2021-07-26T03:34:00",
          "2021-07-26T03:35:00",
          "2021-07-26T03:36:00",
          "2021-07-26T03:37:00",
          "2021-07-26T03:38:00",
          "2021-07-26T03:39:00",
          "2021-07-26T03:40:00",
          "2021-07-26T03:41:00",
          "2021-07-26T03:42:00",
          "2021-07-26T03:43:00",
          "2021-07-26T03:44:00",
          "2021-07-26T03:45:00",
          "2021-07-26T03:46:00",
          "2021-07-26T03:47:00",
          "2021-07-26T03:48:00",
          "2021-07-26T03:49:00",
          "2021-07-26T03:50:00",
          "2021-07-26T03:51:00",
          "2021-07-26T03:52:00",
          "2021-07-26T03:53:00",
          "2021-07-26T03:54:00",
          "2021-07-26T03:55:00",
          "2021-07-26T03:56:00",
          "2021-07-26T03:57:00",
          "2021-07-26T03:58:00",
          "2021-07-26T03:59:00",
          "2021-07-26T04:00:00",
          "2021-07-26T04:01:00",
          "2021-07-26T04:02:00",
          "2021-07-26T04:03:00",
          "2021-07-26T04:04:00",
          "2021-07-26T04:05:00",
          "2021-07-26T04:06:00",
          "2021-07-26T04:07:00",
          "2021-07-26T04:08:00",
          "2021-07-26T04:09:00",
          "2021-07-26T04:10:00",
          "2021-07-26T04:11:00",
          "2021-07-26T04:12:00",
          "2021-07-26T04:13:00",
          "2021-07-26T04:14:00",
          "2021-07-26T04:15:00",
          "2021-07-26T04:16:00",
          "2021-07-26T04:17:00",
          "2021-07-26T04:18:00",
          "2021-07-26T04:19:00",
          "2021-07-26T04:20:00",
          "2021-07-26T04:21:00",
          "2021-07-26T04:22:00",
          "2021-07-26T04:23:00",
          "2021-07-26T04:24:00",
          "2021-07-26T04:25:00",
          "2021-07-26T04:26:00",
          "2021-07-26T04:27:00",
          "2021-07-26T04:28:00",
          "2021-07-26T04:29:00",
          "2021-07-26T04:30:00",
          "2021-07-26T04:31:00",
          "2021-07-26T04:32:00",
          "2021-07-26T04:33:00",
          "2021-07-26T04:34:00",
          "2021-07-26T04:35:00",
          "2021-07-26T04:36:00",
          "2021-07-26T04:37:00",
          "2021-07-26T04:38:00",
          "2021-07-26T04:39:00",
          "2021-07-26T04:40:00",
          "2021-07-26T04:41:00",
          "2021-07-26T04:42:00",
          "2021-07-26T04:43:00",
          "2021-07-26T04:44:00",
          "2021-07-26T04:45:00",
          "2021-07-26T04:46:00",
          "2021-07-26T04:47:00",
          "2021-07-26T04:48:00",
          "2021-07-26T04:49:00",
          "2021-07-26T04:50:00",
          "2021-07-26T04:51:00",
          "2021-07-26T04:52:00",
          "2021-07-26T04:53:00",
          "2021-07-26T04:54:00",
          "2021-07-26T04:55:00",
          "2021-07-26T04:56:00",
          "2021-07-26T04:57:00",
          "2021-07-26T04:58:00",
          "2021-07-26T04:59:00"
         ],
         "xaxis": "x",
         "y": [
          1.3758,
          1.3757,
          1.3756,
          1.3754,
          1.3754,
          1.3756,
          1.3757,
          1.3757,
          1.3756,
          1.3756,
          1.3756,
          1.3759,
          1.3759,
          1.3759,
          1.3758,
          1.3758,
          1.3758,
          1.3758,
          1.3758,
          1.3758,
          1.3758,
          1.3758,
          1.3758,
          1.3758,
          1.3758,
          1.3757,
          1.3756,
          1.3756,
          1.3757,
          1.3757,
          1.3757,
          1.3757,
          1.3757,
          1.3756,
          1.3756,
          1.3756,
          1.3756,
          1.3758,
          1.3757,
          1.3758,
          1.3758,
          1.3758,
          1.3758,
          1.3758,
          1.3758,
          1.3757,
          1.3755,
          1.3755,
          1.3755,
          1.3755,
          1.3755,
          1.3755,
          1.3756,
          1.3756,
          1.3756,
          1.3756,
          1.3757,
          1.3754,
          1.3754,
          1.3755,
          1.3755,
          1.3755,
          1.3753,
          1.3752,
          1.3752,
          1.3752,
          1.3751,
          1.375,
          1.3749,
          1.3748,
          1.3749,
          1.3749,
          1.3751,
          1.3752,
          1.3751,
          1.3751,
          1.3749,
          1.3748,
          1.3749,
          1.3747,
          1.3747,
          1.3747,
          1.3745,
          1.3747,
          1.3747,
          1.3746,
          1.3746,
          1.3746,
          1.3746,
          1.3746,
          1.3746,
          1.3747,
          1.3747,
          1.3747,
          1.3747,
          1.3746,
          1.3745,
          1.3744,
          1.3744,
          1.3744,
          1.3744,
          1.3743,
          1.3744,
          1.3744,
          1.3744,
          1.3745,
          1.3742,
          1.3741,
          1.3739,
          1.374,
          1.3741,
          1.3742,
          1.3742,
          1.3741,
          1.3742,
          1.3742,
          1.3742,
          1.3742,
          1.3742,
          1.3743,
          1.3745,
          1.3745,
          1.3745,
          1.3746,
          1.3745,
          1.3745,
          1.3746,
          1.3746,
          1.3747,
          1.3746,
          1.3746,
          1.374,
          1.3743,
          1.3743,
          1.3744,
          1.3743,
          1.3744,
          1.3745,
          1.3747,
          1.3746,
          1.3747,
          1.3748,
          1.3748,
          1.3748,
          1.3747,
          1.3748,
          1.3747,
          1.3747,
          1.3747,
          1.3747,
          1.3747,
          1.3746,
          1.3744,
          1.3744,
          1.3745,
          1.3747,
          1.3746,
          1.3747,
          1.3746,
          1.3744,
          1.3744,
          1.3746,
          1.3747,
          1.3747,
          1.3746,
          1.3746,
          1.3746,
          1.3747,
          1.3748,
          1.3749,
          1.375,
          1.3749,
          1.375,
          1.3749,
          1.3749,
          1.3749,
          1.3749,
          1.3749,
          1.375,
          1.3749,
          1.3749,
          1.375,
          1.3751,
          1.3751,
          1.3752,
          1.3753,
          1.3754,
          1.3754,
          1.3754,
          1.3753,
          1.3753,
          1.3752,
          1.3753,
          1.3753,
          1.3752,
          1.3752,
          1.3753,
          1.3752,
          1.375,
          1.3751,
          1.3751,
          1.3751,
          1.3751,
          1.3751,
          1.3751,
          1.3751,
          1.3752,
          1.3751,
          1.3751,
          1.3751,
          1.3751,
          1.375,
          1.375,
          1.375,
          1.375,
          1.375,
          1.375,
          1.375,
          1.375,
          1.375,
          1.375,
          1.375,
          1.3749,
          1.3749,
          1.3749,
          1.3749,
          1.3749,
          1.3748,
          1.3748,
          1.3749,
          1.3749,
          1.375,
          1.3749,
          1.3749,
          1.3747,
          1.3747,
          1.3745,
          1.3745,
          1.3747,
          1.3745,
          1.3744,
          1.3743,
          1.3742,
          1.3742,
          1.374,
          1.3743,
          1.3744,
          1.3743,
          1.3742,
          1.3745,
          1.3745,
          1.3744,
          1.3746,
          1.3744,
          1.3745,
          1.3745,
          1.3745,
          1.3745,
          1.3747,
          1.3747,
          1.3747,
          1.3748,
          1.3747,
          1.3747,
          1.3747,
          1.3746,
          1.3746,
          1.3746,
          1.3745,
          1.3746,
          1.3746,
          1.3746,
          1.3745,
          1.3745,
          1.3745,
          1.3746,
          1.3746,
          1.3746,
          1.3746,
          1.3746,
          1.3747,
          1.3747,
          1.3747,
          1.3746,
          1.3746,
          1.3746,
          1.3746,
          1.3746,
          1.3745,
          1.3745,
          1.3745,
          1.3745,
          1.3745,
          1.3745,
          1.3745,
          1.3745,
          1.3744,
          1.3745,
          1.3746,
          1.3746
         ],
         "yaxis": "y"
        }
       ],
       "layout": {
        "annotations": [
         {
          "font": {
           "size": 16
          },
          "showarrow": false,
          "text": "Close",
          "x": 0.5,
          "xanchor": "center",
          "xref": "paper",
          "y": 1,
          "yanchor": "bottom",
          "yref": "paper"
         }
        ],
        "font": {
         "size": 14
        },
        "height": 549,
        "hovermode": "x unified",
        "legend": {
         "orientation": "h",
         "x": 0,
         "xanchor": "left",
         "y": 1.0737704918032787,
         "yanchor": "middle"
        },
        "margin": {
         "b": 0,
         "l": 0,
         "r": 0,
         "t": 73
        },
        "showlegend": true,
        "template": {
         "data": {
          "bar": [
           {
            "error_x": {
             "color": "rgb(36,36,36)"
            },
            "error_y": {
             "color": "rgb(36,36,36)"
            },
            "marker": {
             "line": {
              "color": "white",
              "width": 0.5
             },
             "pattern": {
              "fillmode": "overlay",
              "size": 10,
              "solidity": 0.2
             }
            },
            "type": "bar"
           }
          ],
          "barpolar": [
           {
            "marker": {
             "line": {
              "color": "white",
              "width": 0.5
             },
             "pattern": {
              "fillmode": "overlay",
              "size": 10,
              "solidity": 0.2
             }
            },
            "type": "barpolar"
           }
          ],
          "carpet": [
           {
            "aaxis": {
             "endlinecolor": "rgb(36,36,36)",
             "gridcolor": "white",
             "linecolor": "white",
             "minorgridcolor": "white",
             "startlinecolor": "rgb(36,36,36)"
            },
            "baxis": {
             "endlinecolor": "rgb(36,36,36)",
             "gridcolor": "white",
             "linecolor": "white",
             "minorgridcolor": "white",
             "startlinecolor": "rgb(36,36,36)"
            },
            "type": "carpet"
           }
          ],
          "choropleth": [
           {
            "colorbar": {
             "outlinewidth": 1,
             "tickcolor": "rgb(36,36,36)",
             "ticks": "outside"
            },
            "type": "choropleth"
           }
          ],
          "contour": [
           {
            "colorbar": {
             "outlinewidth": 1,
             "tickcolor": "rgb(36,36,36)",
             "ticks": "outside"
            },
            "colorscale": [
             [
              0,
              "#440154"
             ],
             [
              0.1111111111111111,
              "#482878"
             ],
             [
              0.2222222222222222,
              "#3e4989"
             ],
             [
              0.3333333333333333,
              "#31688e"
             ],
             [
              0.4444444444444444,
              "#26828e"
             ],
             [
              0.5555555555555556,
              "#1f9e89"
             ],
             [
              0.6666666666666666,
              "#35b779"
             ],
             [
              0.7777777777777778,
              "#6ece58"
             ],
             [
              0.8888888888888888,
              "#b5de2b"
             ],
             [
              1,
              "#fde725"
             ]
            ],
            "type": "contour"
           }
          ],
          "contourcarpet": [
           {
            "colorbar": {
             "outlinewidth": 1,
             "tickcolor": "rgb(36,36,36)",
             "ticks": "outside"
            },
            "type": "contourcarpet"
           }
          ],
          "heatmap": [
           {
            "colorbar": {
             "outlinewidth": 1,
             "tickcolor": "rgb(36,36,36)",
             "ticks": "outside"
            },
            "colorscale": [
             [
              0,
              "#440154"
             ],
             [
              0.1111111111111111,
              "#482878"
             ],
             [
              0.2222222222222222,
              "#3e4989"
             ],
             [
              0.3333333333333333,
              "#31688e"
             ],
             [
              0.4444444444444444,
              "#26828e"
             ],
             [
              0.5555555555555556,
              "#1f9e89"
             ],
             [
              0.6666666666666666,
              "#35b779"
             ],
             [
              0.7777777777777778,
              "#6ece58"
             ],
             [
              0.8888888888888888,
              "#b5de2b"
             ],
             [
              1,
              "#fde725"
             ]
            ],
            "type": "heatmap"
           }
          ],
          "heatmapgl": [
           {
            "colorbar": {
             "outlinewidth": 1,
             "tickcolor": "rgb(36,36,36)",
             "ticks": "outside"
            },
            "colorscale": [
             [
              0,
              "#440154"
             ],
             [
              0.1111111111111111,
              "#482878"
             ],
             [
              0.2222222222222222,
              "#3e4989"
             ],
             [
              0.3333333333333333,
              "#31688e"
             ],
             [
              0.4444444444444444,
              "#26828e"
             ],
             [
              0.5555555555555556,
              "#1f9e89"
             ],
             [
              0.6666666666666666,
              "#35b779"
             ],
             [
              0.7777777777777778,
              "#6ece58"
             ],
             [
              0.8888888888888888,
              "#b5de2b"
             ],
             [
              1,
              "#fde725"
             ]
            ],
            "type": "heatmapgl"
           }
          ],
          "histogram": [
           {
            "marker": {
             "line": {
              "color": "white",
              "width": 0.6
             }
            },
            "type": "histogram"
           }
          ],
          "histogram2d": [
           {
            "colorbar": {
             "outlinewidth": 1,
             "tickcolor": "rgb(36,36,36)",
             "ticks": "outside"
            },
            "colorscale": [
             [
              0,
              "#440154"
             ],
             [
              0.1111111111111111,
              "#482878"
             ],
             [
              0.2222222222222222,
              "#3e4989"
             ],
             [
              0.3333333333333333,
              "#31688e"
             ],
             [
              0.4444444444444444,
              "#26828e"
             ],
             [
              0.5555555555555556,
              "#1f9e89"
             ],
             [
              0.6666666666666666,
              "#35b779"
             ],
             [
              0.7777777777777778,
              "#6ece58"
             ],
             [
              0.8888888888888888,
              "#b5de2b"
             ],
             [
              1,
              "#fde725"
             ]
            ],
            "type": "histogram2d"
           }
          ],
          "histogram2dcontour": [
           {
            "colorbar": {
             "outlinewidth": 1,
             "tickcolor": "rgb(36,36,36)",
             "ticks": "outside"
            },
            "colorscale": [
             [
              0,
              "#440154"
             ],
             [
              0.1111111111111111,
              "#482878"
             ],
             [
              0.2222222222222222,
              "#3e4989"
             ],
             [
              0.3333333333333333,
              "#31688e"
             ],
             [
              0.4444444444444444,
              "#26828e"
             ],
             [
              0.5555555555555556,
              "#1f9e89"
             ],
             [
              0.6666666666666666,
              "#35b779"
             ],
             [
              0.7777777777777778,
              "#6ece58"
             ],
             [
              0.8888888888888888,
              "#b5de2b"
             ],
             [
              1,
              "#fde725"
             ]
            ],
            "type": "histogram2dcontour"
           }
          ],
          "mesh3d": [
           {
            "colorbar": {
             "outlinewidth": 1,
             "tickcolor": "rgb(36,36,36)",
             "ticks": "outside"
            },
            "type": "mesh3d"
           }
          ],
          "parcoords": [
           {
            "line": {
             "colorbar": {
              "outlinewidth": 1,
              "tickcolor": "rgb(36,36,36)",
              "ticks": "outside"
             }
            },
            "type": "parcoords"
           }
          ],
          "pie": [
           {
            "automargin": true,
            "type": "pie"
           }
          ],
          "scatter": [
           {
            "marker": {
             "colorbar": {
              "outlinewidth": 1,
              "tickcolor": "rgb(36,36,36)",
              "ticks": "outside"
             }
            },
            "type": "scatter"
           }
          ],
          "scatter3d": [
           {
            "line": {
             "colorbar": {
              "outlinewidth": 1,
              "tickcolor": "rgb(36,36,36)",
              "ticks": "outside"
             }
            },
            "marker": {
             "colorbar": {
              "outlinewidth": 1,
              "tickcolor": "rgb(36,36,36)",
              "ticks": "outside"
             }
            },
            "type": "scatter3d"
           }
          ],
          "scattercarpet": [
           {
            "marker": {
             "colorbar": {
              "outlinewidth": 1,
              "tickcolor": "rgb(36,36,36)",
              "ticks": "outside"
             }
            },
            "type": "scattercarpet"
           }
          ],
          "scattergeo": [
           {
            "marker": {
             "colorbar": {
              "outlinewidth": 1,
              "tickcolor": "rgb(36,36,36)",
              "ticks": "outside"
             }
            },
            "type": "scattergeo"
           }
          ],
          "scattergl": [
           {
            "marker": {
             "colorbar": {
              "outlinewidth": 1,
              "tickcolor": "rgb(36,36,36)",
              "ticks": "outside"
             }
            },
            "type": "scattergl"
           }
          ],
          "scattermapbox": [
           {
            "marker": {
             "colorbar": {
              "outlinewidth": 1,
              "tickcolor": "rgb(36,36,36)",
              "ticks": "outside"
             }
            },
            "type": "scattermapbox"
           }
          ],
          "scatterpolar": [
           {
            "marker": {
             "colorbar": {
              "outlinewidth": 1,
              "tickcolor": "rgb(36,36,36)",
              "ticks": "outside"
             }
            },
            "type": "scatterpolar"
           }
          ],
          "scatterpolargl": [
           {
            "marker": {
             "colorbar": {
              "outlinewidth": 1,
              "tickcolor": "rgb(36,36,36)",
              "ticks": "outside"
             }
            },
            "type": "scatterpolargl"
           }
          ],
          "scatterternary": [
           {
            "marker": {
             "colorbar": {
              "outlinewidth": 1,
              "tickcolor": "rgb(36,36,36)",
              "ticks": "outside"
             }
            },
            "type": "scatterternary"
           }
          ],
          "surface": [
           {
            "colorbar": {
             "outlinewidth": 1,
             "tickcolor": "rgb(36,36,36)",
             "ticks": "outside"
            },
            "colorscale": [
             [
              0,
              "#440154"
             ],
             [
              0.1111111111111111,
              "#482878"
             ],
             [
              0.2222222222222222,
              "#3e4989"
             ],
             [
              0.3333333333333333,
              "#31688e"
             ],
             [
              0.4444444444444444,
              "#26828e"
             ],
             [
              0.5555555555555556,
              "#1f9e89"
             ],
             [
              0.6666666666666666,
              "#35b779"
             ],
             [
              0.7777777777777778,
              "#6ece58"
             ],
             [
              0.8888888888888888,
              "#b5de2b"
             ],
             [
              1,
              "#fde725"
             ]
            ],
            "type": "surface"
           }
          ],
          "table": [
           {
            "cells": {
             "fill": {
              "color": "rgb(237,237,237)"
             },
             "line": {
              "color": "white"
             }
            },
            "header": {
             "fill": {
              "color": "rgb(217,217,217)"
             },
             "line": {
              "color": "white"
             }
            },
            "type": "table"
           }
          ]
         },
         "layout": {
          "annotationdefaults": {
           "arrowhead": 0,
           "arrowwidth": 1
          },
          "autotypenumbers": "strict",
          "coloraxis": {
           "colorbar": {
            "outlinewidth": 1,
            "tickcolor": "rgb(36,36,36)",
            "ticks": "outside"
           }
          },
          "colorscale": {
           "diverging": [
            [
             0,
             "rgb(103,0,31)"
            ],
            [
             0.1,
             "rgb(178,24,43)"
            ],
            [
             0.2,
             "rgb(214,96,77)"
            ],
            [
             0.3,
             "rgb(244,165,130)"
            ],
            [
             0.4,
             "rgb(253,219,199)"
            ],
            [
             0.5,
             "rgb(247,247,247)"
            ],
            [
             0.6,
             "rgb(209,229,240)"
            ],
            [
             0.7,
             "rgb(146,197,222)"
            ],
            [
             0.8,
             "rgb(67,147,195)"
            ],
            [
             0.9,
             "rgb(33,102,172)"
            ],
            [
             1,
             "rgb(5,48,97)"
            ]
           ],
           "sequential": [
            [
             0,
             "#440154"
            ],
            [
             0.1111111111111111,
             "#482878"
            ],
            [
             0.2222222222222222,
             "#3e4989"
            ],
            [
             0.3333333333333333,
             "#31688e"
            ],
            [
             0.4444444444444444,
             "#26828e"
            ],
            [
             0.5555555555555556,
             "#1f9e89"
            ],
            [
             0.6666666666666666,
             "#35b779"
            ],
            [
             0.7777777777777778,
             "#6ece58"
            ],
            [
             0.8888888888888888,
             "#b5de2b"
            ],
            [
             1,
             "#fde725"
            ]
           ],
           "sequentialminus": [
            [
             0,
             "#440154"
            ],
            [
             0.1111111111111111,
             "#482878"
            ],
            [
             0.2222222222222222,
             "#3e4989"
            ],
            [
             0.3333333333333333,
             "#31688e"
            ],
            [
             0.4444444444444444,
             "#26828e"
            ],
            [
             0.5555555555555556,
             "#1f9e89"
            ],
            [
             0.6666666666666666,
             "#35b779"
            ],
            [
             0.7777777777777778,
             "#6ece58"
            ],
            [
             0.8888888888888888,
             "#b5de2b"
            ],
            [
             1,
             "#fde725"
            ]
           ]
          },
          "colorway": [
           "#1F77B4",
           "#FF7F0E",
           "#2CA02C",
           "#D62728",
           "#9467BD",
           "#8C564B",
           "#E377C2",
           "#7F7F7F",
           "#BCBD22",
           "#17BECF"
          ],
          "font": {
           "color": "rgb(36,36,36)"
          },
          "geo": {
           "bgcolor": "white",
           "lakecolor": "white",
           "landcolor": "white",
           "showlakes": true,
           "showland": true,
           "subunitcolor": "white"
          },
          "hoverlabel": {
           "align": "left"
          },
          "hovermode": "closest",
          "mapbox": {
           "style": "light"
          },
          "paper_bgcolor": "white",
          "plot_bgcolor": "white",
          "polar": {
           "angularaxis": {
            "gridcolor": "rgb(232,232,232)",
            "linecolor": "rgb(36,36,36)",
            "showgrid": false,
            "showline": true,
            "ticks": "outside"
           },
           "bgcolor": "white",
           "radialaxis": {
            "gridcolor": "rgb(232,232,232)",
            "linecolor": "rgb(36,36,36)",
            "showgrid": false,
            "showline": true,
            "ticks": "outside"
           }
          },
          "scene": {
           "xaxis": {
            "backgroundcolor": "white",
            "gridcolor": "rgb(232,232,232)",
            "gridwidth": 2,
            "linecolor": "rgb(36,36,36)",
            "showbackground": true,
            "showgrid": false,
            "showline": true,
            "ticks": "outside",
            "zeroline": false,
            "zerolinecolor": "rgb(36,36,36)"
           },
           "yaxis": {
            "backgroundcolor": "white",
            "gridcolor": "rgb(232,232,232)",
            "gridwidth": 2,
            "linecolor": "rgb(36,36,36)",
            "showbackground": true,
            "showgrid": false,
            "showline": true,
            "ticks": "outside",
            "zeroline": false,
            "zerolinecolor": "rgb(36,36,36)"
           },
           "zaxis": {
            "backgroundcolor": "white",
            "gridcolor": "rgb(232,232,232)",
            "gridwidth": 2,
            "linecolor": "rgb(36,36,36)",
            "showbackground": true,
            "showgrid": false,
            "showline": true,
            "ticks": "outside",
            "zeroline": false,
            "zerolinecolor": "rgb(36,36,36)"
           }
          },
          "shapedefaults": {
           "fillcolor": "black",
           "line": {
            "width": 0
           },
           "opacity": 0.3
          },
          "ternary": {
           "aaxis": {
            "gridcolor": "rgb(232,232,232)",
            "linecolor": "rgb(36,36,36)",
            "showgrid": false,
            "showline": true,
            "ticks": "outside"
           },
           "baxis": {
            "gridcolor": "rgb(232,232,232)",
            "linecolor": "rgb(36,36,36)",
            "showgrid": false,
            "showline": true,
            "ticks": "outside"
           },
           "bgcolor": "white",
           "caxis": {
            "gridcolor": "rgb(232,232,232)",
            "linecolor": "rgb(36,36,36)",
            "showgrid": false,
            "showline": true,
            "ticks": "outside"
           }
          },
          "title": {
           "x": 0.05
          },
          "xaxis": {
           "automargin": true,
           "gridcolor": "rgb(232,232,232)",
           "linecolor": "rgb(36,36,36)",
           "showgrid": false,
           "showline": true,
           "ticks": "outside",
           "title": {
            "standoff": 15
           },
           "zeroline": false,
           "zerolinecolor": "rgb(36,36,36)"
          },
          "yaxis": {
           "automargin": true,
           "gridcolor": "rgb(232,232,232)",
           "linecolor": "rgb(36,36,36)",
           "showgrid": false,
           "showline": true,
           "ticks": "outside",
           "title": {
            "standoff": 15
           },
           "zeroline": false,
           "zerolinecolor": "rgb(36,36,36)"
          }
         }
        },
        "title": {
         "text": "Forex Currencies Rates: GBP/USD",
         "x": 0.5,
         "y": 0.9967213114754099,
         "yanchor": "top"
        },
        "width": 927,
        "xaxis": {
         "anchor": "y",
         "domain": [
          0,
          1
         ],
         "nticks": 20,
         "showgrid": true
        },
        "yaxis": {
         "anchor": "x",
         "domain": [
          0,
          1
         ],
         "nticks": 10,
         "showgrid": true,
         "type": "linear"
        }
       }
      },
      "text/html": [
       "<div>                            <div id=\"b8d89d33-a2a1-4eb0-a909-9b9d7b98c3d7\" class=\"plotly-graph-div\" style=\"height:549px; width:927px;\"></div>            <script type=\"text/javascript\">                require([\"plotly\"], function(Plotly) {                    window.PLOTLYENV=window.PLOTLYENV || {};                                    if (document.getElementById(\"b8d89d33-a2a1-4eb0-a909-9b9d7b98c3d7\")) {                    Plotly.newPlot(                        \"b8d89d33-a2a1-4eb0-a909-9b9d7b98c3d7\",                        [{\"legendgroup\":\"\",\"line\":{\"color\":\"steelblue\",\"width\":1.5},\"name\":\"\",\"showlegend\":true,\"type\":\"scatter\",\"x\":[\"2021-07-26T00:00:00\",\"2021-07-26T00:01:00\",\"2021-07-26T00:02:00\",\"2021-07-26T00:03:00\",\"2021-07-26T00:04:00\",\"2021-07-26T00:05:00\",\"2021-07-26T00:06:00\",\"2021-07-26T00:07:00\",\"2021-07-26T00:08:00\",\"2021-07-26T00:09:00\",\"2021-07-26T00:10:00\",\"2021-07-26T00:11:00\",\"2021-07-26T00:12:00\",\"2021-07-26T00:13:00\",\"2021-07-26T00:14:00\",\"2021-07-26T00:15:00\",\"2021-07-26T00:16:00\",\"2021-07-26T00:17:00\",\"2021-07-26T00:18:00\",\"2021-07-26T00:19:00\",\"2021-07-26T00:20:00\",\"2021-07-26T00:21:00\",\"2021-07-26T00:22:00\",\"2021-07-26T00:23:00\",\"2021-07-26T00:24:00\",\"2021-07-26T00:25:00\",\"2021-07-26T00:26:00\",\"2021-07-26T00:27:00\",\"2021-07-26T00:28:00\",\"2021-07-26T00:29:00\",\"2021-07-26T00:30:00\",\"2021-07-26T00:31:00\",\"2021-07-26T00:32:00\",\"2021-07-26T00:33:00\",\"2021-07-26T00:34:00\",\"2021-07-26T00:35:00\",\"2021-07-26T00:36:00\",\"2021-07-26T00:37:00\",\"2021-07-26T00:38:00\",\"2021-07-26T00:39:00\",\"2021-07-26T00:40:00\",\"2021-07-26T00:41:00\",\"2021-07-26T00:42:00\",\"2021-07-26T00:43:00\",\"2021-07-26T00:44:00\",\"2021-07-26T00:45:00\",\"2021-07-26T00:46:00\",\"2021-07-26T00:47:00\",\"2021-07-26T00:48:00\",\"2021-07-26T00:49:00\",\"2021-07-26T00:50:00\",\"2021-07-26T00:51:00\",\"2021-07-26T00:52:00\",\"2021-07-26T00:53:00\",\"2021-07-26T00:54:00\",\"2021-07-26T00:55:00\",\"2021-07-26T00:56:00\",\"2021-07-26T00:57:00\",\"2021-07-26T00:58:00\",\"2021-07-26T00:59:00\",\"2021-07-26T01:00:00\",\"2021-07-26T01:01:00\",\"2021-07-26T01:02:00\",\"2021-07-26T01:03:00\",\"2021-07-26T01:04:00\",\"2021-07-26T01:05:00\",\"2021-07-26T01:06:00\",\"2021-07-26T01:07:00\",\"2021-07-26T01:08:00\",\"2021-07-26T01:09:00\",\"2021-07-26T01:10:00\",\"2021-07-26T01:11:00\",\"2021-07-26T01:12:00\",\"2021-07-26T01:13:00\",\"2021-07-26T01:14:00\",\"2021-07-26T01:15:00\",\"2021-07-26T01:16:00\",\"2021-07-26T01:17:00\",\"2021-07-26T01:18:00\",\"2021-07-26T01:19:00\",\"2021-07-26T01:20:00\",\"2021-07-26T01:21:00\",\"2021-07-26T01:22:00\",\"2021-07-26T01:23:00\",\"2021-07-26T01:24:00\",\"2021-07-26T01:25:00\",\"2021-07-26T01:26:00\",\"2021-07-26T01:27:00\",\"2021-07-26T01:28:00\",\"2021-07-26T01:29:00\",\"2021-07-26T01:30:00\",\"2021-07-26T01:31:00\",\"2021-07-26T01:32:00\",\"2021-07-26T01:33:00\",\"2021-07-26T01:34:00\",\"2021-07-26T01:35:00\",\"2021-07-26T01:36:00\",\"2021-07-26T01:37:00\",\"2021-07-26T01:38:00\",\"2021-07-26T01:39:00\",\"2021-07-26T01:40:00\",\"2021-07-26T01:41:00\",\"2021-07-26T01:42:00\",\"2021-07-26T01:43:00\",\"2021-07-26T01:44:00\",\"2021-07-26T01:45:00\",\"2021-07-26T01:46:00\",\"2021-07-26T01:47:00\",\"2021-07-26T01:48:00\",\"2021-07-26T01:49:00\",\"2021-07-26T01:50:00\",\"2021-07-26T01:51:00\",\"2021-07-26T01:52:00\",\"2021-07-26T01:53:00\",\"2021-07-26T01:54:00\",\"2021-07-26T01:55:00\",\"2021-07-26T01:56:00\",\"2021-07-26T01:57:00\",\"2021-07-26T01:58:00\",\"2021-07-26T01:59:00\",\"2021-07-26T02:00:00\",\"2021-07-26T02:01:00\",\"2021-07-26T02:02:00\",\"2021-07-26T02:03:00\",\"2021-07-26T02:04:00\",\"2021-07-26T02:05:00\",\"2021-07-26T02:06:00\",\"2021-07-26T02:07:00\",\"2021-07-26T02:08:00\",\"2021-07-26T02:09:00\",\"2021-07-26T02:10:00\",\"2021-07-26T02:11:00\",\"2021-07-26T02:12:00\",\"2021-07-26T02:13:00\",\"2021-07-26T02:14:00\",\"2021-07-26T02:15:00\",\"2021-07-26T02:16:00\",\"2021-07-26T02:17:00\",\"2021-07-26T02:18:00\",\"2021-07-26T02:19:00\",\"2021-07-26T02:20:00\",\"2021-07-26T02:21:00\",\"2021-07-26T02:22:00\",\"2021-07-26T02:23:00\",\"2021-07-26T02:24:00\",\"2021-07-26T02:25:00\",\"2021-07-26T02:26:00\",\"2021-07-26T02:27:00\",\"2021-07-26T02:28:00\",\"2021-07-26T02:29:00\",\"2021-07-26T02:30:00\",\"2021-07-26T02:31:00\",\"2021-07-26T02:32:00\",\"2021-07-26T02:33:00\",\"2021-07-26T02:34:00\",\"2021-07-26T02:35:00\",\"2021-07-26T02:36:00\",\"2021-07-26T02:37:00\",\"2021-07-26T02:38:00\",\"2021-07-26T02:39:00\",\"2021-07-26T02:40:00\",\"2021-07-26T02:41:00\",\"2021-07-26T02:42:00\",\"2021-07-26T02:43:00\",\"2021-07-26T02:44:00\",\"2021-07-26T02:45:00\",\"2021-07-26T02:46:00\",\"2021-07-26T02:47:00\",\"2021-07-26T02:48:00\",\"2021-07-26T02:49:00\",\"2021-07-26T02:50:00\",\"2021-07-26T02:51:00\",\"2021-07-26T02:52:00\",\"2021-07-26T02:53:00\",\"2021-07-26T02:54:00\",\"2021-07-26T02:55:00\",\"2021-07-26T02:56:00\",\"2021-07-26T02:57:00\",\"2021-07-26T02:58:00\",\"2021-07-26T02:59:00\",\"2021-07-26T03:00:00\",\"2021-07-26T03:01:00\",\"2021-07-26T03:02:00\",\"2021-07-26T03:03:00\",\"2021-07-26T03:04:00\",\"2021-07-26T03:05:00\",\"2021-07-26T03:06:00\",\"2021-07-26T03:07:00\",\"2021-07-26T03:08:00\",\"2021-07-26T03:09:00\",\"2021-07-26T03:10:00\",\"2021-07-26T03:11:00\",\"2021-07-26T03:12:00\",\"2021-07-26T03:13:00\",\"2021-07-26T03:14:00\",\"2021-07-26T03:15:00\",\"2021-07-26T03:16:00\",\"2021-07-26T03:17:00\",\"2021-07-26T03:18:00\",\"2021-07-26T03:19:00\",\"2021-07-26T03:20:00\",\"2021-07-26T03:21:00\",\"2021-07-26T03:22:00\",\"2021-07-26T03:23:00\",\"2021-07-26T03:24:00\",\"2021-07-26T03:25:00\",\"2021-07-26T03:26:00\",\"2021-07-26T03:27:00\",\"2021-07-26T03:28:00\",\"2021-07-26T03:29:00\",\"2021-07-26T03:30:00\",\"2021-07-26T03:31:00\",\"2021-07-26T03:32:00\",\"2021-07-26T03:33:00\",\"2021-07-26T03:34:00\",\"2021-07-26T03:35:00\",\"2021-07-26T03:36:00\",\"2021-07-26T03:37:00\",\"2021-07-26T03:38:00\",\"2021-07-26T03:39:00\",\"2021-07-26T03:40:00\",\"2021-07-26T03:41:00\",\"2021-07-26T03:42:00\",\"2021-07-26T03:43:00\",\"2021-07-26T03:44:00\",\"2021-07-26T03:45:00\",\"2021-07-26T03:46:00\",\"2021-07-26T03:47:00\",\"2021-07-26T03:48:00\",\"2021-07-26T03:49:00\",\"2021-07-26T03:50:00\",\"2021-07-26T03:51:00\",\"2021-07-26T03:52:00\",\"2021-07-26T03:53:00\",\"2021-07-26T03:54:00\",\"2021-07-26T03:55:00\",\"2021-07-26T03:56:00\",\"2021-07-26T03:57:00\",\"2021-07-26T03:58:00\",\"2021-07-26T03:59:00\",\"2021-07-26T04:00:00\",\"2021-07-26T04:01:00\",\"2021-07-26T04:02:00\",\"2021-07-26T04:03:00\",\"2021-07-26T04:04:00\",\"2021-07-26T04:05:00\",\"2021-07-26T04:06:00\",\"2021-07-26T04:07:00\",\"2021-07-26T04:08:00\",\"2021-07-26T04:09:00\",\"2021-07-26T04:10:00\",\"2021-07-26T04:11:00\",\"2021-07-26T04:12:00\",\"2021-07-26T04:13:00\",\"2021-07-26T04:14:00\",\"2021-07-26T04:15:00\",\"2021-07-26T04:16:00\",\"2021-07-26T04:17:00\",\"2021-07-26T04:18:00\",\"2021-07-26T04:19:00\",\"2021-07-26T04:20:00\",\"2021-07-26T04:21:00\",\"2021-07-26T04:22:00\",\"2021-07-26T04:23:00\",\"2021-07-26T04:24:00\",\"2021-07-26T04:25:00\",\"2021-07-26T04:26:00\",\"2021-07-26T04:27:00\",\"2021-07-26T04:28:00\",\"2021-07-26T04:29:00\",\"2021-07-26T04:30:00\",\"2021-07-26T04:31:00\",\"2021-07-26T04:32:00\",\"2021-07-26T04:33:00\",\"2021-07-26T04:34:00\",\"2021-07-26T04:35:00\",\"2021-07-26T04:36:00\",\"2021-07-26T04:37:00\",\"2021-07-26T04:38:00\",\"2021-07-26T04:39:00\",\"2021-07-26T04:40:00\",\"2021-07-26T04:41:00\",\"2021-07-26T04:42:00\",\"2021-07-26T04:43:00\",\"2021-07-26T04:44:00\",\"2021-07-26T04:45:00\",\"2021-07-26T04:46:00\",\"2021-07-26T04:47:00\",\"2021-07-26T04:48:00\",\"2021-07-26T04:49:00\",\"2021-07-26T04:50:00\",\"2021-07-26T04:51:00\",\"2021-07-26T04:52:00\",\"2021-07-26T04:53:00\",\"2021-07-26T04:54:00\",\"2021-07-26T04:55:00\",\"2021-07-26T04:56:00\",\"2021-07-26T04:57:00\",\"2021-07-26T04:58:00\",\"2021-07-26T04:59:00\"],\"xaxis\":\"x\",\"y\":[1.3758,1.3757,1.3756,1.3754,1.3754,1.3756,1.3757,1.3757,1.3756,1.3756,1.3756,1.3759,1.3759,1.3759,1.3758,1.3758,1.3758,1.3758,1.3758,1.3758,1.3758,1.3758,1.3758,1.3758,1.3758,1.3757,1.3756,1.3756,1.3757,1.3757,1.3757,1.3757,1.3757,1.3756,1.3756,1.3756,1.3756,1.3758,1.3757,1.3758,1.3758,1.3758,1.3758,1.3758,1.3758,1.3757,1.3755,1.3755,1.3755,1.3755,1.3755,1.3755,1.3756,1.3756,1.3756,1.3756,1.3757,1.3754,1.3754,1.3755,1.3755,1.3755,1.3753,1.3752,1.3752,1.3752,1.3751,1.375,1.3749,1.3748,1.3749,1.3749,1.3751,1.3752,1.3751,1.3751,1.3749,1.3748,1.3749,1.3747,1.3747,1.3747,1.3745,1.3747,1.3747,1.3746,1.3746,1.3746,1.3746,1.3746,1.3746,1.3747,1.3747,1.3747,1.3747,1.3746,1.3745,1.3744,1.3744,1.3744,1.3744,1.3743,1.3744,1.3744,1.3744,1.3745,1.3742,1.3741,1.3739,1.374,1.3741,1.3742,1.3742,1.3741,1.3742,1.3742,1.3742,1.3742,1.3742,1.3743,1.3745,1.3745,1.3745,1.3746,1.3745,1.3745,1.3746,1.3746,1.3747,1.3746,1.3746,1.374,1.3743,1.3743,1.3744,1.3743,1.3744,1.3745,1.3747,1.3746,1.3747,1.3748,1.3748,1.3748,1.3747,1.3748,1.3747,1.3747,1.3747,1.3747,1.3747,1.3746,1.3744,1.3744,1.3745,1.3747,1.3746,1.3747,1.3746,1.3744,1.3744,1.3746,1.3747,1.3747,1.3746,1.3746,1.3746,1.3747,1.3748,1.3749,1.375,1.3749,1.375,1.3749,1.3749,1.3749,1.3749,1.3749,1.375,1.3749,1.3749,1.375,1.3751,1.3751,1.3752,1.3753,1.3754,1.3754,1.3754,1.3753,1.3753,1.3752,1.3753,1.3753,1.3752,1.3752,1.3753,1.3752,1.375,1.3751,1.3751,1.3751,1.3751,1.3751,1.3751,1.3751,1.3752,1.3751,1.3751,1.3751,1.3751,1.375,1.375,1.375,1.375,1.375,1.375,1.375,1.375,1.375,1.375,1.375,1.3749,1.3749,1.3749,1.3749,1.3749,1.3748,1.3748,1.3749,1.3749,1.375,1.3749,1.3749,1.3747,1.3747,1.3745,1.3745,1.3747,1.3745,1.3744,1.3743,1.3742,1.3742,1.374,1.3743,1.3744,1.3743,1.3742,1.3745,1.3745,1.3744,1.3746,1.3744,1.3745,1.3745,1.3745,1.3745,1.3747,1.3747,1.3747,1.3748,1.3747,1.3747,1.3747,1.3746,1.3746,1.3746,1.3745,1.3746,1.3746,1.3746,1.3745,1.3745,1.3745,1.3746,1.3746,1.3746,1.3746,1.3746,1.3747,1.3747,1.3747,1.3746,1.3746,1.3746,1.3746,1.3746,1.3745,1.3745,1.3745,1.3745,1.3745,1.3745,1.3745,1.3745,1.3744,1.3745,1.3746,1.3746],\"yaxis\":\"y\"}],                        {\"annotations\":[{\"font\":{\"size\":16},\"showarrow\":false,\"text\":\"Close\",\"x\":0.5,\"xanchor\":\"center\",\"xref\":\"paper\",\"y\":1.0,\"yanchor\":\"bottom\",\"yref\":\"paper\"}],\"font\":{\"size\":14},\"height\":549,\"hovermode\":\"x unified\",\"legend\":{\"orientation\":\"h\",\"x\":0,\"xanchor\":\"left\",\"y\":1.0737704918032787,\"yanchor\":\"middle\"},\"margin\":{\"b\":0,\"l\":0,\"r\":0,\"t\":73.0},\"showlegend\":true,\"template\":{\"data\":{\"bar\":[{\"error_x\":{\"color\":\"rgb(36,36,36)\"},\"error_y\":{\"color\":\"rgb(36,36,36)\"},\"marker\":{\"line\":{\"color\":\"white\",\"width\":0.5},\"pattern\":{\"fillmode\":\"overlay\",\"size\":10,\"solidity\":0.2}},\"type\":\"bar\"}],\"barpolar\":[{\"marker\":{\"line\":{\"color\":\"white\",\"width\":0.5},\"pattern\":{\"fillmode\":\"overlay\",\"size\":10,\"solidity\":0.2}},\"type\":\"barpolar\"}],\"carpet\":[{\"aaxis\":{\"endlinecolor\":\"rgb(36,36,36)\",\"gridcolor\":\"white\",\"linecolor\":\"white\",\"minorgridcolor\":\"white\",\"startlinecolor\":\"rgb(36,36,36)\"},\"baxis\":{\"endlinecolor\":\"rgb(36,36,36)\",\"gridcolor\":\"white\",\"linecolor\":\"white\",\"minorgridcolor\":\"white\",\"startlinecolor\":\"rgb(36,36,36)\"},\"type\":\"carpet\"}],\"choropleth\":[{\"colorbar\":{\"outlinewidth\":1,\"tickcolor\":\"rgb(36,36,36)\",\"ticks\":\"outside\"},\"type\":\"choropleth\"}],\"contour\":[{\"colorbar\":{\"outlinewidth\":1,\"tickcolor\":\"rgb(36,36,36)\",\"ticks\":\"outside\"},\"colorscale\":[[0.0,\"#440154\"],[0.1111111111111111,\"#482878\"],[0.2222222222222222,\"#3e4989\"],[0.3333333333333333,\"#31688e\"],[0.4444444444444444,\"#26828e\"],[0.5555555555555556,\"#1f9e89\"],[0.6666666666666666,\"#35b779\"],[0.7777777777777778,\"#6ece58\"],[0.8888888888888888,\"#b5de2b\"],[1.0,\"#fde725\"]],\"type\":\"contour\"}],\"contourcarpet\":[{\"colorbar\":{\"outlinewidth\":1,\"tickcolor\":\"rgb(36,36,36)\",\"ticks\":\"outside\"},\"type\":\"contourcarpet\"}],\"heatmap\":[{\"colorbar\":{\"outlinewidth\":1,\"tickcolor\":\"rgb(36,36,36)\",\"ticks\":\"outside\"},\"colorscale\":[[0.0,\"#440154\"],[0.1111111111111111,\"#482878\"],[0.2222222222222222,\"#3e4989\"],[0.3333333333333333,\"#31688e\"],[0.4444444444444444,\"#26828e\"],[0.5555555555555556,\"#1f9e89\"],[0.6666666666666666,\"#35b779\"],[0.7777777777777778,\"#6ece58\"],[0.8888888888888888,\"#b5de2b\"],[1.0,\"#fde725\"]],\"type\":\"heatmap\"}],\"heatmapgl\":[{\"colorbar\":{\"outlinewidth\":1,\"tickcolor\":\"rgb(36,36,36)\",\"ticks\":\"outside\"},\"colorscale\":[[0.0,\"#440154\"],[0.1111111111111111,\"#482878\"],[0.2222222222222222,\"#3e4989\"],[0.3333333333333333,\"#31688e\"],[0.4444444444444444,\"#26828e\"],[0.5555555555555556,\"#1f9e89\"],[0.6666666666666666,\"#35b779\"],[0.7777777777777778,\"#6ece58\"],[0.8888888888888888,\"#b5de2b\"],[1.0,\"#fde725\"]],\"type\":\"heatmapgl\"}],\"histogram\":[{\"marker\":{\"line\":{\"color\":\"white\",\"width\":0.6}},\"type\":\"histogram\"}],\"histogram2d\":[{\"colorbar\":{\"outlinewidth\":1,\"tickcolor\":\"rgb(36,36,36)\",\"ticks\":\"outside\"},\"colorscale\":[[0.0,\"#440154\"],[0.1111111111111111,\"#482878\"],[0.2222222222222222,\"#3e4989\"],[0.3333333333333333,\"#31688e\"],[0.4444444444444444,\"#26828e\"],[0.5555555555555556,\"#1f9e89\"],[0.6666666666666666,\"#35b779\"],[0.7777777777777778,\"#6ece58\"],[0.8888888888888888,\"#b5de2b\"],[1.0,\"#fde725\"]],\"type\":\"histogram2d\"}],\"histogram2dcontour\":[{\"colorbar\":{\"outlinewidth\":1,\"tickcolor\":\"rgb(36,36,36)\",\"ticks\":\"outside\"},\"colorscale\":[[0.0,\"#440154\"],[0.1111111111111111,\"#482878\"],[0.2222222222222222,\"#3e4989\"],[0.3333333333333333,\"#31688e\"],[0.4444444444444444,\"#26828e\"],[0.5555555555555556,\"#1f9e89\"],[0.6666666666666666,\"#35b779\"],[0.7777777777777778,\"#6ece58\"],[0.8888888888888888,\"#b5de2b\"],[1.0,\"#fde725\"]],\"type\":\"histogram2dcontour\"}],\"mesh3d\":[{\"colorbar\":{\"outlinewidth\":1,\"tickcolor\":\"rgb(36,36,36)\",\"ticks\":\"outside\"},\"type\":\"mesh3d\"}],\"parcoords\":[{\"line\":{\"colorbar\":{\"outlinewidth\":1,\"tickcolor\":\"rgb(36,36,36)\",\"ticks\":\"outside\"}},\"type\":\"parcoords\"}],\"pie\":[{\"automargin\":true,\"type\":\"pie\"}],\"scatter\":[{\"marker\":{\"colorbar\":{\"outlinewidth\":1,\"tickcolor\":\"rgb(36,36,36)\",\"ticks\":\"outside\"}},\"type\":\"scatter\"}],\"scatter3d\":[{\"line\":{\"colorbar\":{\"outlinewidth\":1,\"tickcolor\":\"rgb(36,36,36)\",\"ticks\":\"outside\"}},\"marker\":{\"colorbar\":{\"outlinewidth\":1,\"tickcolor\":\"rgb(36,36,36)\",\"ticks\":\"outside\"}},\"type\":\"scatter3d\"}],\"scattercarpet\":[{\"marker\":{\"colorbar\":{\"outlinewidth\":1,\"tickcolor\":\"rgb(36,36,36)\",\"ticks\":\"outside\"}},\"type\":\"scattercarpet\"}],\"scattergeo\":[{\"marker\":{\"colorbar\":{\"outlinewidth\":1,\"tickcolor\":\"rgb(36,36,36)\",\"ticks\":\"outside\"}},\"type\":\"scattergeo\"}],\"scattergl\":[{\"marker\":{\"colorbar\":{\"outlinewidth\":1,\"tickcolor\":\"rgb(36,36,36)\",\"ticks\":\"outside\"}},\"type\":\"scattergl\"}],\"scattermapbox\":[{\"marker\":{\"colorbar\":{\"outlinewidth\":1,\"tickcolor\":\"rgb(36,36,36)\",\"ticks\":\"outside\"}},\"type\":\"scattermapbox\"}],\"scatterpolar\":[{\"marker\":{\"colorbar\":{\"outlinewidth\":1,\"tickcolor\":\"rgb(36,36,36)\",\"ticks\":\"outside\"}},\"type\":\"scatterpolar\"}],\"scatterpolargl\":[{\"marker\":{\"colorbar\":{\"outlinewidth\":1,\"tickcolor\":\"rgb(36,36,36)\",\"ticks\":\"outside\"}},\"type\":\"scatterpolargl\"}],\"scatterternary\":[{\"marker\":{\"colorbar\":{\"outlinewidth\":1,\"tickcolor\":\"rgb(36,36,36)\",\"ticks\":\"outside\"}},\"type\":\"scatterternary\"}],\"surface\":[{\"colorbar\":{\"outlinewidth\":1,\"tickcolor\":\"rgb(36,36,36)\",\"ticks\":\"outside\"},\"colorscale\":[[0.0,\"#440154\"],[0.1111111111111111,\"#482878\"],[0.2222222222222222,\"#3e4989\"],[0.3333333333333333,\"#31688e\"],[0.4444444444444444,\"#26828e\"],[0.5555555555555556,\"#1f9e89\"],[0.6666666666666666,\"#35b779\"],[0.7777777777777778,\"#6ece58\"],[0.8888888888888888,\"#b5de2b\"],[1.0,\"#fde725\"]],\"type\":\"surface\"}],\"table\":[{\"cells\":{\"fill\":{\"color\":\"rgb(237,237,237)\"},\"line\":{\"color\":\"white\"}},\"header\":{\"fill\":{\"color\":\"rgb(217,217,217)\"},\"line\":{\"color\":\"white\"}},\"type\":\"table\"}]},\"layout\":{\"annotationdefaults\":{\"arrowhead\":0,\"arrowwidth\":1},\"autotypenumbers\":\"strict\",\"coloraxis\":{\"colorbar\":{\"outlinewidth\":1,\"tickcolor\":\"rgb(36,36,36)\",\"ticks\":\"outside\"}},\"colorscale\":{\"diverging\":[[0.0,\"rgb(103,0,31)\"],[0.1,\"rgb(178,24,43)\"],[0.2,\"rgb(214,96,77)\"],[0.3,\"rgb(244,165,130)\"],[0.4,\"rgb(253,219,199)\"],[0.5,\"rgb(247,247,247)\"],[0.6,\"rgb(209,229,240)\"],[0.7,\"rgb(146,197,222)\"],[0.8,\"rgb(67,147,195)\"],[0.9,\"rgb(33,102,172)\"],[1.0,\"rgb(5,48,97)\"]],\"sequential\":[[0.0,\"#440154\"],[0.1111111111111111,\"#482878\"],[0.2222222222222222,\"#3e4989\"],[0.3333333333333333,\"#31688e\"],[0.4444444444444444,\"#26828e\"],[0.5555555555555556,\"#1f9e89\"],[0.6666666666666666,\"#35b779\"],[0.7777777777777778,\"#6ece58\"],[0.8888888888888888,\"#b5de2b\"],[1.0,\"#fde725\"]],\"sequentialminus\":[[0.0,\"#440154\"],[0.1111111111111111,\"#482878\"],[0.2222222222222222,\"#3e4989\"],[0.3333333333333333,\"#31688e\"],[0.4444444444444444,\"#26828e\"],[0.5555555555555556,\"#1f9e89\"],[0.6666666666666666,\"#35b779\"],[0.7777777777777778,\"#6ece58\"],[0.8888888888888888,\"#b5de2b\"],[1.0,\"#fde725\"]]},\"colorway\":[\"#1F77B4\",\"#FF7F0E\",\"#2CA02C\",\"#D62728\",\"#9467BD\",\"#8C564B\",\"#E377C2\",\"#7F7F7F\",\"#BCBD22\",\"#17BECF\"],\"font\":{\"color\":\"rgb(36,36,36)\"},\"geo\":{\"bgcolor\":\"white\",\"lakecolor\":\"white\",\"landcolor\":\"white\",\"showlakes\":true,\"showland\":true,\"subunitcolor\":\"white\"},\"hoverlabel\":{\"align\":\"left\"},\"hovermode\":\"closest\",\"mapbox\":{\"style\":\"light\"},\"paper_bgcolor\":\"white\",\"plot_bgcolor\":\"white\",\"polar\":{\"angularaxis\":{\"gridcolor\":\"rgb(232,232,232)\",\"linecolor\":\"rgb(36,36,36)\",\"showgrid\":false,\"showline\":true,\"ticks\":\"outside\"},\"bgcolor\":\"white\",\"radialaxis\":{\"gridcolor\":\"rgb(232,232,232)\",\"linecolor\":\"rgb(36,36,36)\",\"showgrid\":false,\"showline\":true,\"ticks\":\"outside\"}},\"scene\":{\"xaxis\":{\"backgroundcolor\":\"white\",\"gridcolor\":\"rgb(232,232,232)\",\"gridwidth\":2,\"linecolor\":\"rgb(36,36,36)\",\"showbackground\":true,\"showgrid\":false,\"showline\":true,\"ticks\":\"outside\",\"zeroline\":false,\"zerolinecolor\":\"rgb(36,36,36)\"},\"yaxis\":{\"backgroundcolor\":\"white\",\"gridcolor\":\"rgb(232,232,232)\",\"gridwidth\":2,\"linecolor\":\"rgb(36,36,36)\",\"showbackground\":true,\"showgrid\":false,\"showline\":true,\"ticks\":\"outside\",\"zeroline\":false,\"zerolinecolor\":\"rgb(36,36,36)\"},\"zaxis\":{\"backgroundcolor\":\"white\",\"gridcolor\":\"rgb(232,232,232)\",\"gridwidth\":2,\"linecolor\":\"rgb(36,36,36)\",\"showbackground\":true,\"showgrid\":false,\"showline\":true,\"ticks\":\"outside\",\"zeroline\":false,\"zerolinecolor\":\"rgb(36,36,36)\"}},\"shapedefaults\":{\"fillcolor\":\"black\",\"line\":{\"width\":0},\"opacity\":0.3},\"ternary\":{\"aaxis\":{\"gridcolor\":\"rgb(232,232,232)\",\"linecolor\":\"rgb(36,36,36)\",\"showgrid\":false,\"showline\":true,\"ticks\":\"outside\"},\"baxis\":{\"gridcolor\":\"rgb(232,232,232)\",\"linecolor\":\"rgb(36,36,36)\",\"showgrid\":false,\"showline\":true,\"ticks\":\"outside\"},\"bgcolor\":\"white\",\"caxis\":{\"gridcolor\":\"rgb(232,232,232)\",\"linecolor\":\"rgb(36,36,36)\",\"showgrid\":false,\"showline\":true,\"ticks\":\"outside\"}},\"title\":{\"x\":0.05},\"xaxis\":{\"automargin\":true,\"gridcolor\":\"rgb(232,232,232)\",\"linecolor\":\"rgb(36,36,36)\",\"showgrid\":false,\"showline\":true,\"ticks\":\"outside\",\"title\":{\"standoff\":15},\"zeroline\":false,\"zerolinecolor\":\"rgb(36,36,36)\"},\"yaxis\":{\"automargin\":true,\"gridcolor\":\"rgb(232,232,232)\",\"linecolor\":\"rgb(36,36,36)\",\"showgrid\":false,\"showline\":true,\"ticks\":\"outside\",\"title\":{\"standoff\":15},\"zeroline\":false,\"zerolinecolor\":\"rgb(36,36,36)\"}}},\"title\":{\"text\":\"Forex Currencies Rates: GBP/USD\",\"x\":0.5,\"y\":0.9967213114754099,\"yanchor\":\"top\"},\"width\":927,\"xaxis\":{\"anchor\":\"y\",\"domain\":[0.0,1.0],\"nticks\":20,\"showgrid\":true},\"yaxis\":{\"anchor\":\"x\",\"domain\":[0.0,1.0],\"nticks\":10,\"showgrid\":true,\"type\":\"linear\"}},                        {\"responsive\": true}                    ).then(function(){\n",
       "                            \n",
       "var gd = document.getElementById('b8d89d33-a2a1-4eb0-a909-9b9d7b98c3d7');\n",
       "var x = new MutationObserver(function (mutations, observer) {{\n",
       "        var display = window.getComputedStyle(gd).display;\n",
       "        if (!display || display === 'none') {{\n",
       "            console.log([gd, 'removed!']);\n",
       "            Plotly.purge(gd);\n",
       "            observer.disconnect();\n",
       "        }}\n",
       "}});\n",
       "\n",
       "// Listen for the removal of the full notebook cells\n",
       "var notebookContainer = gd.closest('#notebook-container');\n",
       "if (notebookContainer) {{\n",
       "    x.observe(notebookContainer, {childList: true});\n",
       "}}\n",
       "\n",
       "// Listen for the clearing of the current output cell\n",
       "var outputEl = gd.closest('.output');\n",
       "if (outputEl) {{\n",
       "    x.observe(outputEl, {childList: true});\n",
       "}}\n",
       "\n",
       "                        })                };                });            </script>        </div>"
      ]
     },
     "metadata": {},
     "output_type": "display_data"
    },
    {
     "data": {
      "application/javascript": [
       "\n",
       "            setTimeout(function() {\n",
       "                var nbb_cell_id = 12;\n",
       "                var nbb_unformatted_code = \"plot_ts(train_intv.view().iloc[: 60 * 5], engine=\\\"plotly\\\", title=\\\"Forex Currencies Rates: GBP/USD\\\")\";\n",
       "                var nbb_formatted_code = \"plot_ts(\\n    train_intv.view().iloc[: 60 * 5],\\n    engine=\\\"plotly\\\",\\n    title=\\\"Forex Currencies Rates: GBP/USD\\\",\\n)\";\n",
       "                var nbb_cells = Jupyter.notebook.get_cells();\n",
       "                for (var i = 0; i < nbb_cells.length; ++i) {\n",
       "                    if (nbb_cells[i].input_prompt_number == nbb_cell_id) {\n",
       "                        if (nbb_cells[i].get_text() == nbb_unformatted_code) {\n",
       "                             nbb_cells[i].set_text(nbb_formatted_code);\n",
       "                        }\n",
       "                        break;\n",
       "                    }\n",
       "                }\n",
       "            }, 500);\n",
       "            "
      ],
      "text/plain": [
       "<IPython.core.display.Javascript object>"
      ]
     },
     "metadata": {},
     "output_type": "display_data"
    }
   ],
   "source": [
    "plot_ts(\n",
    "    train_intv.view().iloc[: 60 * 5],\n",
    "    engine=\"plotly\",\n",
    "    title=\"Forex Currencies Rates: GBP/USD\",\n",
    ")"
   ]
  },
  {
   "cell_type": "markdown",
   "metadata": {},
   "source": [
    "## Hyper Parameters Search"
   ]
  },
  {
   "cell_type": "code",
   "execution_count": 6,
   "metadata": {},
   "outputs": [
    {
     "data": {
      "image/png": "[encoded data removed]",
      "text/plain": [
       "<Figure size 864x504 with 1 Axes>"
      ]
     },
     "metadata": {},
     "output_type": "display_data"
    },
    {
     "data": {
      "application/javascript": [
       "\n",
       "            setTimeout(function() {\n",
       "                var nbb_cell_id = 6;\n",
       "                var nbb_unformatted_code = \"hyper_search_train_datetime = datetime(2021, 8, 5, 8)\\nhyper_search_val_datetime = datetime(2021, 8, 5, 13)\\nhyper_search_end_val_datetime = datetime(2021, 8, 5, 17)\\nhyper_search_train_intv = tss.Interval(\\n    ts, hyper_search_train_datetime, hyper_search_val_datetime\\n)\\nhyper_search_val_intv = tss.Interval(\\n    ts, hyper_search_val_datetime, hyper_search_end_val_datetime\\n)\\nfig = plot_ts(hyper_search_train_intv.view(), color=\\\"green\\\")\\ndisplay(plot_ts(hyper_search_val_intv.view(), fig=fig, color=\\\"orange\\\"))\";\n",
       "                var nbb_formatted_code = \"hyper_search_train_datetime = datetime(2021, 8, 5, 8)\\nhyper_search_val_datetime = datetime(2021, 8, 5, 13)\\nhyper_search_end_val_datetime = datetime(2021, 8, 5, 17)\\nhyper_search_train_intv = tss.Interval(\\n    ts, hyper_search_train_datetime, hyper_search_val_datetime\\n)\\nhyper_search_val_intv = tss.Interval(\\n    ts, hyper_search_val_datetime, hyper_search_end_val_datetime\\n)\\nfig = plot_ts(hyper_search_train_intv.view(), color=\\\"green\\\")\\ndisplay(plot_ts(hyper_search_val_intv.view(), fig=fig, color=\\\"orange\\\"))\";\n",
       "                var nbb_cells = Jupyter.notebook.get_cells();\n",
       "                for (var i = 0; i < nbb_cells.length; ++i) {\n",
       "                    if (nbb_cells[i].input_prompt_number == nbb_cell_id) {\n",
       "                        if (nbb_cells[i].get_text() == nbb_unformatted_code) {\n",
       "                             nbb_cells[i].set_text(nbb_formatted_code);\n",
       "                        }\n",
       "                        break;\n",
       "                    }\n",
       "                }\n",
       "            }, 500);\n",
       "            "
      ],
      "text/plain": [
       "<IPython.core.display.Javascript object>"
      ]
     },
     "metadata": {},
     "output_type": "display_data"
    }
   ],
   "source": [
    "hyper_search_train_datetime = datetime(2021, 8, 5, 8)\n",
    "hyper_search_val_datetime = datetime(2021, 8, 5, 13)\n",
    "hyper_search_end_val_datetime = datetime(2021, 8, 5, 17)\n",
    "hyper_search_train_intv = tss.Interval(\n",
    "    ts, hyper_search_train_datetime, hyper_search_val_datetime\n",
    ")\n",
    "hyper_search_val_intv = tss.Interval(\n",
    "    ts, hyper_search_val_datetime, hyper_search_end_val_datetime\n",
    ")\n",
    "fig = plot_ts(hyper_search_train_intv.view(), color=\"green\")\n",
    "display(plot_ts(hyper_search_val_intv.view(), fig=fig, color=\"orange\"))"
   ]
  },
  {
   "cell_type": "code",
   "execution_count": 7,
   "metadata": {},
   "outputs": [
    {
     "data": {
      "application/javascript": [
       "\n",
       "            setTimeout(function() {\n",
       "                var nbb_cell_id = 7;\n",
       "                var nbb_unformatted_code = \"def median_of_medians_grid_search(scores=None):\\n    return grid_search_hyper_params(\\n        MedianOfMediansModel,\\n        grid,\\n        ts,\\n        hyper_search_train_intv,\\n        hyper_search_val_intv,\\n        best=10,\\n        score_params=score_params,\\n        scores=scores,\\n    )\";\n",
       "                var nbb_formatted_code = \"def median_of_medians_grid_search(scores=None):\\n    return grid_search_hyper_params(\\n        MedianOfMediansModel,\\n        grid,\\n        ts,\\n        hyper_search_train_intv,\\n        hyper_search_val_intv,\\n        best=10,\\n        score_params=score_params,\\n        scores=scores,\\n    )\";\n",
       "                var nbb_cells = Jupyter.notebook.get_cells();\n",
       "                for (var i = 0; i < nbb_cells.length; ++i) {\n",
       "                    if (nbb_cells[i].input_prompt_number == nbb_cell_id) {\n",
       "                        if (nbb_cells[i].get_text() == nbb_unformatted_code) {\n",
       "                             nbb_cells[i].set_text(nbb_formatted_code);\n",
       "                        }\n",
       "                        break;\n",
       "                    }\n",
       "                }\n",
       "            }, 500);\n",
       "            "
      ],
      "text/plain": [
       "<IPython.core.display.Javascript object>"
      ]
     },
     "metadata": {},
     "output_type": "display_data"
    }
   ],
   "source": [
    "def median_of_medians_grid_search(scores=None):\n",
    "    return grid_search_hyper_params(\n",
    "        MedianOfMediansModel,\n",
    "        grid,\n",
    "        ts,\n",
    "        hyper_search_train_intv,\n",
    "        hyper_search_val_intv,\n",
    "        best=10,\n",
    "        score_params=score_params,\n",
    "        scores=scores,\n",
    "    )"
   ]
  },
  {
   "cell_type": "code",
   "execution_count": 8,
   "metadata": {},
   "outputs": [
    {
     "data": {
      "application/javascript": [
       "\n",
       "            setTimeout(function() {\n",
       "                var nbb_cell_id = 8;\n",
       "                var nbb_unformatted_code = \"group_size_range = np.arange(1, 10).tolist()\\nn_groups_range = np.arange(1, 10).tolist()\\nm_range = np.arange(1, 120).tolist()\\ngrid = make_grid(n_groups=n_groups_range, group_size=group_size_range, m=m_range)\\ngrid = [\\n    params\\n    for params in grid\\n    if params[\\\"n_groups\\\"] * params[\\\"group_size\\\"] * params[\\\"m\\\"] <= 300\\n]\\n\\nscore_params = dict(\\n    scorings=[\\\"mae\\\"],\\n    n_steps=pred_steps,\\n    n_steps_jump=10,\\n    mute=True,\\n)\";\n",
       "                var nbb_formatted_code = \"group_size_range = np.arange(1, 10).tolist()\\nn_groups_range = np.arange(1, 10).tolist()\\nm_range = np.arange(1, 120).tolist()\\ngrid = make_grid(n_groups=n_groups_range, group_size=group_size_range, m=m_range)\\ngrid = [\\n    params\\n    for params in grid\\n    if params[\\\"n_groups\\\"] * params[\\\"group_size\\\"] * params[\\\"m\\\"] <= 300\\n]\\n\\nscore_params = dict(\\n    scorings=[\\\"mae\\\"],\\n    n_steps=pred_steps,\\n    n_steps_jump=10,\\n    mute=True,\\n)\";\n",
       "                var nbb_cells = Jupyter.notebook.get_cells();\n",
       "                for (var i = 0; i < nbb_cells.length; ++i) {\n",
       "                    if (nbb_cells[i].input_prompt_number == nbb_cell_id) {\n",
       "                        if (nbb_cells[i].get_text() == nbb_unformatted_code) {\n",
       "                             nbb_cells[i].set_text(nbb_formatted_code);\n",
       "                        }\n",
       "                        break;\n",
       "                    }\n",
       "                }\n",
       "            }, 500);\n",
       "            "
      ],
      "text/plain": [
       "<IPython.core.display.Javascript object>"
      ]
     },
     "metadata": {},
     "output_type": "display_data"
    }
   ],
   "source": [
    "group_size_range = np.arange(1, 10).tolist()\n",
    "n_groups_range = np.arange(1, 10).tolist()\n",
    "m_range = np.arange(1, 120).tolist()\n",
    "grid = make_grid(n_groups=n_groups_range, group_size=group_size_range, m=m_range)\n",
    "grid = [\n",
    "    params\n",
    "    for params in grid\n",
    "    if params[\"n_groups\"] * params[\"group_size\"] * params[\"m\"] <= 300\n",
    "]\n",
    "\n",
    "score_params = dict(\n",
    "    scorings=[\"mae\"],\n",
    "    n_steps=pred_steps,\n",
    "    n_steps_jump=10,\n",
    "    mute=True,\n",
    ")"
   ]
  },
  {
   "cell_type": "code",
   "execution_count": 9,
   "metadata": {},
   "outputs": [
    {
     "name": "stdout",
     "output_type": "stream",
     "text": [
      "2132/2132, best_score: 0.001140, valuation: {'n_groups': 1, 'group_size': 7, 'm': 1}   \n",
      "[(0.0011400925925925745, {'group_size': 7, 'm': 1, 'n_groups': 1}),\n",
      " (0.0011400925925925745, {'group_size': 1, 'm': 1, 'n_groups': 7}),\n",
      " (0.0011423148148147965, {'group_size': 5, 'm': 1, 'n_groups': 1}),\n",
      " (0.0011423148148147965, {'group_size': 1, 'm': 1, 'n_groups': 5}),\n",
      " (0.0011441666666666532, {'group_size': 2, 'm': 1, 'n_groups': 3}),\n",
      " (0.0011448148148147832, {'group_size': 6, 'm': 1, 'n_groups': 1}),\n",
      " (0.0011448148148147832, {'group_size': 1, 'm': 1, 'n_groups': 6}),\n",
      " (0.0011500925925925734, {'group_size': 3, 'm': 2, 'n_groups': 1}),\n",
      " (0.0011500925925925734, {'group_size': 1, 'm': 2, 'n_groups': 3}),\n",
      " (0.001154490740740731, {'group_size': 2, 'm': 1, 'n_groups': 4})]\n",
      "CPU times: user 9min 21s, sys: 762 ms, total: 9min 22s\n",
      "Wall time: 9min 22s\n"
     ]
    },
    {
     "data": {
      "application/javascript": [
       "\n",
       "            setTimeout(function() {\n",
       "                var nbb_cell_id = 9;\n",
       "                var nbb_unformatted_code = \"%%time\\npprint(median_of_medians_grid_search())\";\n",
       "                var nbb_formatted_code = \"%%time\\npprint(median_of_medians_grid_search())\";\n",
       "                var nbb_cells = Jupyter.notebook.get_cells();\n",
       "                for (var i = 0; i < nbb_cells.length; ++i) {\n",
       "                    if (nbb_cells[i].input_prompt_number == nbb_cell_id) {\n",
       "                        if (nbb_cells[i].get_text() == nbb_unformatted_code) {\n",
       "                             nbb_cells[i].set_text(nbb_formatted_code);\n",
       "                        }\n",
       "                        break;\n",
       "                    }\n",
       "                }\n",
       "            }, 500);\n",
       "            "
      ],
      "text/plain": [
       "<IPython.core.display.Javascript object>"
      ]
     },
     "metadata": {},
     "output_type": "display_data"
    }
   ],
   "source": [
    "%%time\n",
    "pprint(median_of_medians_grid_search())"
   ]
  },
  {
   "cell_type": "markdown",
   "metadata": {},
   "source": [
    "## Training and Validation"
   ]
  },
  {
   "cell_type": "code",
   "execution_count": 9,
   "metadata": {
    "scrolled": true
   },
   "outputs": [
    {
     "name": "stdout",
     "output_type": "stream",
     "text": [
      "126/126 – RMSE: 0.00045, MAE: 0.00038, MASE: 7.13949, sMAPE: 0.02782, elapsed time: 4.3s (last: 0.0s)      \n",
      "{'MAE': 0.00038455026455026136,\n",
      " 'MASE': 7.13948647995201,\n",
      " 'RMSE': 0.000450294903648415,\n",
      " 'sMAPE': 0.027817203369771865}\n",
      "CPU times: user 3.98 s, sys: 100 ms, total: 4.08 s\n",
      "Wall time: 4.76 s\n"
     ]
    },
    {
     "data": {
      "application/javascript": [
       "\n",
       "            setTimeout(function() {\n",
       "                var nbb_cell_id = 9;\n",
       "                var nbb_unformatted_code = \"%%time\\nmodel = MedianOfMediansModel(n_groups=1, group_size=7)\\nmodel.fit(ts, train_intv)\\nval_mean_scores, val_all_scores, val_preds = average_scores(\\n    model,\\n    ts,\\n    val_intv,\\n    scorings=scorings,\\n    n_steps=pred_steps,\\n    n_steps_jump=pred_jump,\\n    return_all_scores=True,\\n    return_preds=True,\\n)\\npprint(val_mean_scores)\\n\\nmodel_name = \\\"Median of Medians\\\"\\nmodel_version = \\\"(1,7)\\\"\\nval_results.set_model(model_name, model_version)\\nval_results.add_model_scores(val_mean_scores)\\nval_results.add_model_preds(val_preds)\";\n",
       "                var nbb_formatted_code = \"%%time\\nmodel = MedianOfMediansModel(n_groups=1, group_size=7)\\nmodel.fit(ts, train_intv)\\nval_mean_scores, val_all_scores, val_preds = average_scores(\\n    model,\\n    ts,\\n    val_intv,\\n    scorings=scorings,\\n    n_steps=pred_steps,\\n    n_steps_jump=pred_jump,\\n    return_all_scores=True,\\n    return_preds=True,\\n)\\npprint(val_mean_scores)\\n\\nmodel_name = \\\"Median of Medians\\\"\\nmodel_version = \\\"(1,7)\\\"\\nval_results.set_model(model_name, model_version)\\nval_results.add_model_scores(val_mean_scores)\\nval_results.add_model_preds(val_preds)\";\n",
       "                var nbb_cells = Jupyter.notebook.get_cells();\n",
       "                for (var i = 0; i < nbb_cells.length; ++i) {\n",
       "                    if (nbb_cells[i].input_prompt_number == nbb_cell_id) {\n",
       "                        if (nbb_cells[i].get_text() == nbb_unformatted_code) {\n",
       "                             nbb_cells[i].set_text(nbb_formatted_code);\n",
       "                        }\n",
       "                        break;\n",
       "                    }\n",
       "                }\n",
       "            }, 500);\n",
       "            "
      ],
      "text/plain": [
       "<IPython.core.display.Javascript object>"
      ]
     },
     "metadata": {},
     "output_type": "display_data"
    }
   ],
   "source": [
    "%%time\n",
    "model = MedianOfMediansModel(n_groups=1, group_size=7)\n",
    "model.fit(ts, train_intv)\n",
    "val_mean_scores, val_all_scores, val_preds = average_scores(\n",
    "    model,\n",
    "    ts,\n",
    "    val_intv,\n",
    "    scorings=scorings,\n",
    "    n_steps=pred_steps,\n",
    "    n_steps_jump=pred_jump,\n",
    "    return_all_scores=True,\n",
    "    return_preds=True,\n",
    ")\n",
    "pprint(val_mean_scores)\n",
    "\n",
    "model_name = \"Median of Medians\"\n",
    "model_version = \"(1,7)\"\n",
    "val_results.set_model(model_name, model_version)\n",
    "val_results.add_model_scores(val_mean_scores)\n",
    "val_results.add_model_preds(val_preds)"
   ]
  },
  {
   "cell_type": "markdown",
   "metadata": {},
   "source": [
    "### Distributions of Validation Errors"
   ]
  },
  {
   "cell_type": "code",
   "execution_count": 10,
   "metadata": {},
   "outputs": [
    {
     "data": {
      "image/png": "[encoded data removed]",
      "text/plain": [
       "<Figure size 864x432 with 1 Axes>"
      ]
     },
     "metadata": {},
     "output_type": "display_data"
    },
    {
     "data": {
      "application/javascript": [
       "\n",
       "            setTimeout(function() {\n",
       "                var nbb_cell_id = 10;\n",
       "                var nbb_unformatted_code = \"scoring_name = \\\"MAE\\\"\\ndisplay(\\n    plot_hist_model_scores(\\n        data_name,\\n        val_all_scores,\\n        scoring_name,\\n        model_name=model_name,\\n        model_version=model_version,\\n        in_label=True,\\n    )\\n)\";\n",
       "                var nbb_formatted_code = \"scoring_name = \\\"MAE\\\"\\ndisplay(\\n    plot_hist_model_scores(\\n        data_name,\\n        val_all_scores,\\n        scoring_name,\\n        model_name=model_name,\\n        model_version=model_version,\\n        in_label=True,\\n    )\\n)\";\n",
       "                var nbb_cells = Jupyter.notebook.get_cells();\n",
       "                for (var i = 0; i < nbb_cells.length; ++i) {\n",
       "                    if (nbb_cells[i].input_prompt_number == nbb_cell_id) {\n",
       "                        if (nbb_cells[i].get_text() == nbb_unformatted_code) {\n",
       "                             nbb_cells[i].set_text(nbb_formatted_code);\n",
       "                        }\n",
       "                        break;\n",
       "                    }\n",
       "                }\n",
       "            }, 500);\n",
       "            "
      ],
      "text/plain": [
       "<IPython.core.display.Javascript object>"
      ]
     },
     "metadata": {},
     "output_type": "display_data"
    }
   ],
   "source": [
    "scoring_name = \"MAE\"\n",
    "display(\n",
    "    plot_hist_model_scores(\n",
    "        data_name,\n",
    "        val_all_scores,\n",
    "        scoring_name,\n",
    "        model_name=model_name,\n",
    "        model_version=model_version,\n",
    "        in_label=True,\n",
    "    )\n",
    ")"
   ]
  },
  {
   "cell_type": "markdown",
   "metadata": {},
   "source": [
    "### Visualization of Validation Predictions"
   ]
  },
  {
   "cell_type": "code",
   "execution_count": 12,
   "metadata": {},
   "outputs": [
    {
     "data": {
      "image/png": "[encoded data removed]",
      "text/plain": [
       "<Figure size 864x576 with 1 Axes>"
      ]
     },
     "metadata": {},
     "output_type": "display_data"
    },
    {
     "data": {
      "application/javascript": [
       "\n",
       "            setTimeout(function() {\n",
       "                var nbb_cell_id = 12;\n",
       "                var nbb_unformatted_code = \"fig_time_delta = timedelta(minutes=10)\\nfig = plot_ground_truth(\\n    val_intv,\\n    mode=\\\"val\\\",\\n    data_type=data_type,\\n    data_name=data_name,\\n)\\ndisplay(\\n    plot_model_test_prediction(\\n        val_intv,\\n        fig_time_delta,\\n        val_preds,\\n        model_name=model_name,\\n        model_version=model_version,\\n        fig=fig,\\n    )\\n)\";\n",
       "                var nbb_formatted_code = \"fig_time_delta = timedelta(minutes=10)\\nfig = plot_ground_truth(\\n    val_intv,\\n    mode=\\\"val\\\",\\n    data_type=data_type,\\n    data_name=data_name,\\n)\\ndisplay(\\n    plot_model_test_prediction(\\n        val_intv,\\n        fig_time_delta,\\n        val_preds,\\n        model_name=model_name,\\n        model_version=model_version,\\n        fig=fig,\\n    )\\n)\";\n",
       "                var nbb_cells = Jupyter.notebook.get_cells();\n",
       "                for (var i = 0; i < nbb_cells.length; ++i) {\n",
       "                    if (nbb_cells[i].input_prompt_number == nbb_cell_id) {\n",
       "                        if (nbb_cells[i].get_text() == nbb_unformatted_code) {\n",
       "                             nbb_cells[i].set_text(nbb_formatted_code);\n",
       "                        }\n",
       "                        break;\n",
       "                    }\n",
       "                }\n",
       "            }, 500);\n",
       "            "
      ],
      "text/plain": [
       "<IPython.core.display.Javascript object>"
      ]
     },
     "metadata": {},
     "output_type": "display_data"
    }
   ],
   "source": [
    "fig_time_delta = timedelta(minutes=10)\n",
    "fig = plot_ground_truth(\n",
    "    val_intv,\n",
    "    mode=\"val\",\n",
    "    data_type=data_type,\n",
    "    data_name=data_name,\n",
    ")\n",
    "display(\n",
    "    plot_model_test_prediction(\n",
    "        val_intv,\n",
    "        fig_time_delta,\n",
    "        val_preds,\n",
    "        model_name=model_name,\n",
    "        model_version=model_version,\n",
    "        fig=fig,\n",
    "    )\n",
    ")"
   ]
  },
  {
   "cell_type": "code",
   "execution_count": 13,
   "metadata": {},
   "outputs": [
    {
     "data": {
      "image/png": "[encoded data removed]",
      "text/plain": [
       "<Figure size 864x576 with 1 Axes>"
      ]
     },
     "metadata": {},
     "output_type": "display_data"
    },
    {
     "data": {
      "application/javascript": [
       "\n",
       "            setTimeout(function() {\n",
       "                var nbb_cell_id = 13;\n",
       "                var nbb_unformatted_code = \"short_val_intv = tss.Interval(\\n    ts, datetime(2021, 8, 13, 6), datetime(2021, 8, 13, 14, 20)\\n)\\nfig = plot_ground_truth(short_val_intv, mode=\\\"val\\\", data_name=data_name)\\ndisplay(\\n    plot_model_test_prediction(\\n        short_val_intv,\\n        fig_time_delta,\\n        val_preds,\\n        model_name=model_name,\\n        model_version=model_version,\\n        fig=fig,\\n    )\\n)\";\n",
       "                var nbb_formatted_code = \"short_val_intv = tss.Interval(\\n    ts, datetime(2021, 8, 13, 6), datetime(2021, 8, 13, 14, 20)\\n)\\nfig = plot_ground_truth(short_val_intv, mode=\\\"val\\\", data_name=data_name)\\ndisplay(\\n    plot_model_test_prediction(\\n        short_val_intv,\\n        fig_time_delta,\\n        val_preds,\\n        model_name=model_name,\\n        model_version=model_version,\\n        fig=fig,\\n    )\\n)\";\n",
       "                var nbb_cells = Jupyter.notebook.get_cells();\n",
       "                for (var i = 0; i < nbb_cells.length; ++i) {\n",
       "                    if (nbb_cells[i].input_prompt_number == nbb_cell_id) {\n",
       "                        if (nbb_cells[i].get_text() == nbb_unformatted_code) {\n",
       "                             nbb_cells[i].set_text(nbb_formatted_code);\n",
       "                        }\n",
       "                        break;\n",
       "                    }\n",
       "                }\n",
       "            }, 500);\n",
       "            "
      ],
      "text/plain": [
       "<IPython.core.display.Javascript object>"
      ]
     },
     "metadata": {},
     "output_type": "display_data"
    }
   ],
   "source": [
    "short_val_intv = tss.Interval(\n",
    "    ts, datetime(2021, 8, 13, 6), datetime(2021, 8, 13, 14, 20)\n",
    ")\n",
    "fig = plot_ground_truth(short_val_intv, mode=\"val\", data_name=data_name)\n",
    "display(\n",
    "    plot_model_test_prediction(\n",
    "        short_val_intv,\n",
    "        fig_time_delta,\n",
    "        val_preds,\n",
    "        model_name=model_name,\n",
    "        model_version=model_version,\n",
    "        fig=fig,\n",
    "    )\n",
    ")"
   ]
  },
  {
   "cell_type": "markdown",
   "metadata": {},
   "source": [
    "## Test Predictions"
   ]
  },
  {
   "cell_type": "code",
   "execution_count": 14,
   "metadata": {},
   "outputs": [
    {
     "name": "stdout",
     "output_type": "stream",
     "text": [
      "144/144 – RMSE: 0.00050, MAE: 0.00043, MASE: 6.81797, sMAPE: 0.03137, elapsed time: 5.0s (last: 0.0s)      \n",
      "{'MAE': 0.0004345370370370476,\n",
      " 'MASE': 6.817965415451935,\n",
      " 'RMSE': 0.0005022112109667571,\n",
      " 'sMAPE': 0.0313679811124652}\n",
      "CPU times: user 4.62 s, sys: 68.4 ms, total: 4.69 s\n",
      "Wall time: 5.58 s\n"
     ]
    },
    {
     "data": {
      "application/javascript": [
       "\n",
       "            setTimeout(function() {\n",
       "                var nbb_cell_id = 14;\n",
       "                var nbb_unformatted_code = \"%%time\\nmodel.update(ts, val_intv)\\ntest_mean_scores, test_all_scores, test_preds = average_scores(\\n    model,\\n    ts,\\n    test_intv,\\n    scorings=scorings,\\n    n_steps=pred_steps,\\n    n_steps_jump=pred_jump,\\n    return_all_scores=True,\\n    return_preds=True,\\n)\\npprint(test_mean_scores)\\ntest_results.set_model(model_name, model_version)\\ntest_results.add_model_scores(test_all_scores, test_mean_scores)\\ntest_results.add_model_preds(test_preds)\";\n",
       "                var nbb_formatted_code = \"%%time\\nmodel.update(ts, val_intv)\\ntest_mean_scores, test_all_scores, test_preds = average_scores(\\n    model,\\n    ts,\\n    test_intv,\\n    scorings=scorings,\\n    n_steps=pred_steps,\\n    n_steps_jump=pred_jump,\\n    return_all_scores=True,\\n    return_preds=True,\\n)\\npprint(test_mean_scores)\\ntest_results.set_model(model_name, model_version)\\ntest_results.add_model_scores(test_all_scores, test_mean_scores)\\ntest_results.add_model_preds(test_preds)\";\n",
       "                var nbb_cells = Jupyter.notebook.get_cells();\n",
       "                for (var i = 0; i < nbb_cells.length; ++i) {\n",
       "                    if (nbb_cells[i].input_prompt_number == nbb_cell_id) {\n",
       "                        if (nbb_cells[i].get_text() == nbb_unformatted_code) {\n",
       "                             nbb_cells[i].set_text(nbb_formatted_code);\n",
       "                        }\n",
       "                        break;\n",
       "                    }\n",
       "                }\n",
       "            }, 500);\n",
       "            "
      ],
      "text/plain": [
       "<IPython.core.display.Javascript object>"
      ]
     },
     "metadata": {},
     "output_type": "display_data"
    }
   ],
   "source": [
    "%%time\n",
    "model.update(ts, val_intv)\n",
    "test_mean_scores, test_all_scores, test_preds = average_scores(\n",
    "    model,\n",
    "    ts,\n",
    "    test_intv,\n",
    "    scorings=scorings,\n",
    "    n_steps=pred_steps,\n",
    "    n_steps_jump=pred_jump,\n",
    "    return_all_scores=True,\n",
    "    return_preds=True,\n",
    ")\n",
    "pprint(test_mean_scores)\n",
    "test_results.set_model(model_name, model_version)\n",
    "test_results.add_model_scores(test_all_scores, test_mean_scores)\n",
    "test_results.add_model_preds(test_preds)"
   ]
  }
 ],
 "metadata": {
  "hide_input": false,
  "kernelspec": {
   "display_name": "Python 3",
   "language": "python",
   "name": "python3"
  },
  "language_info": {
   "codemirror_mode": {
    "name": "ipython",
    "version": 3
   },
   "file_extension": ".py",
   "mimetype": "text/x-python",
   "name": "python",
   "nbconvert_exporter": "python",
   "pygments_lexer": "ipython3",
   "version": "3.8.12"
  },
  "latex_envs": {
   "LaTeX_envs_menu_present": true,
   "autoclose": false,
   "autocomplete": true,
   "bibliofile": "biblio.bib",
   "cite_by": "apalike",
   "current_citInitial": 1,
   "eqLabelWithNumbers": true,
   "eqNumInitial": 1,
   "hotkeys": {
    "equation": "Ctrl-E",
    "itemize": "Ctrl-I"
   },
   "labels_anchors": false,
   "latex_user_defs": false,
   "report_style_numbering": false,
   "user_envs_cfg": false
  },
  "toc": {
   "base_numbering": 1,
   "nav_menu": {},
   "number_sections": true,
   "sideBar": true,
   "skip_h1_title": true,
   "title_cell": "Table of Contents",
   "title_sidebar": "Contents",
   "toc_cell": true,
   "toc_position": {
    "height": "calc(100% - 180px)",
    "left": "10px",
    "top": "150px",
    "width": "338.35px"
   },
   "toc_section_display": true,
   "toc_window_display": true
  },
  "varInspector": {
   "cols": {
    "lenName": 16,
    "lenType": 16,
    "lenVar": 40
   },
   "kernels_config": {
    "python": {
     "delete_cmd_postfix": "",
     "delete_cmd_prefix": "del ",
     "library": "var_list.py",
     "varRefreshCmd": "print(var_dic_list())"
    },
    "r": {
     "delete_cmd_postfix": ") ",
     "delete_cmd_prefix": "rm(",
     "library": "var_list.r",
     "varRefreshCmd": "cat(var_dic_list()) "
    }
   },
   "types_to_exclude": [
    "module",
    "function",
    "builtin_function_or_method",
    "instance",
    "_Feature"
   ],
   "window_display": false
  }
 },
 "nbformat": 4,
 "nbformat_minor": 4
}
